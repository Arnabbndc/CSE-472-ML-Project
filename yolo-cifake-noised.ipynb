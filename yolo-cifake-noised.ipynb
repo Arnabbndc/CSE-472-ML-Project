{
 "cells": [
  {
   "cell_type": "code",
   "execution_count": 1,
   "id": "99f783d9",
   "metadata": {
    "_cell_guid": "b1076dfc-b9ad-4769-8c92-a6c4dae69d19",
    "_uuid": "8f2839f25d086af736a60e9eeb907d3b93b6e0e5",
    "execution": {
     "iopub.execute_input": "2024-12-09T05:32:57.678839Z",
     "iopub.status.busy": "2024-12-09T05:32:57.678539Z",
     "iopub.status.idle": "2024-12-09T05:33:08.940553Z",
     "shell.execute_reply": "2024-12-09T05:33:08.939579Z"
    },
    "papermill": {
     "duration": 11.269213,
     "end_time": "2024-12-09T05:33:08.942680",
     "exception": false,
     "start_time": "2024-12-09T05:32:57.673467",
     "status": "completed"
    },
    "tags": []
   },
   "outputs": [],
   "source": [
    "import numpy as np \n",
    "import pandas as pd\n",
    "import tensorflow as tf\n",
    "\n",
    "import cv2\n",
    "import os\n",
    "import shutil\n",
    "\n",
    "from glob import glob\n",
    "from pathlib import Path"
   ]
  },
  {
   "cell_type": "code",
   "execution_count": 2,
   "id": "b15894f2",
   "metadata": {
    "execution": {
     "iopub.execute_input": "2024-12-09T05:33:08.951358Z",
     "iopub.status.busy": "2024-12-09T05:33:08.950880Z",
     "iopub.status.idle": "2024-12-09T05:33:18.607122Z",
     "shell.execute_reply": "2024-12-09T05:33:18.606190Z"
    },
    "papermill": {
     "duration": 9.662775,
     "end_time": "2024-12-09T05:33:18.609317",
     "exception": false,
     "start_time": "2024-12-09T05:33:08.946542",
     "status": "completed"
    },
    "tags": []
   },
   "outputs": [
    {
     "name": "stderr",
     "output_type": "stream",
     "text": [
      "/opt/conda/lib/python3.10/pty.py:89: RuntimeWarning: os.fork() was called. os.fork() is incompatible with multithreaded code, and JAX is multithreaded, so this will likely lead to a deadlock.\n",
      "  pid, fd = os.forkpty()\n"
     ]
    },
    {
     "name": "stdout",
     "output_type": "stream",
     "text": [
      "Collecting wolta\r\n",
      "  Downloading wolta-0.3.5-py3-none-any.whl.metadata (960 bytes)\r\n",
      "Requirement already satisfied: scikit-learn in /opt/conda/lib/python3.10/site-packages (from wolta) (1.2.2)\r\n",
      "Requirement already satisfied: pandas in /opt/conda/lib/python3.10/site-packages (from wolta) (2.2.2)\r\n",
      "Requirement already satisfied: numpy in /opt/conda/lib/python3.10/site-packages (from wolta) (1.26.4)\r\n",
      "Requirement already satisfied: hyperopt in /opt/conda/lib/python3.10/site-packages (from wolta) (0.2.7)\r\n",
      "Requirement already satisfied: catboost in /opt/conda/lib/python3.10/site-packages (from wolta) (1.2.7)\r\n",
      "Collecting imblearn (from wolta)\r\n",
      "  Downloading imblearn-0.0-py2.py3-none-any.whl.metadata (355 bytes)\r\n",
      "Requirement already satisfied: lightgbm in /opt/conda/lib/python3.10/site-packages (from wolta) (4.2.0)\r\n",
      "Requirement already satisfied: matplotlib in /opt/conda/lib/python3.10/site-packages (from wolta) (3.7.5)\r\n",
      "Requirement already satisfied: opencv-python in /opt/conda/lib/python3.10/site-packages (from wolta) (4.10.0.84)\r\n",
      "Requirement already satisfied: graphviz in /opt/conda/lib/python3.10/site-packages (from catboost->wolta) (0.20.3)\r\n",
      "Requirement already satisfied: scipy in /opt/conda/lib/python3.10/site-packages (from catboost->wolta) (1.14.1)\r\n",
      "Requirement already satisfied: plotly in /opt/conda/lib/python3.10/site-packages (from catboost->wolta) (5.22.0)\r\n",
      "Requirement already satisfied: six in /opt/conda/lib/python3.10/site-packages (from catboost->wolta) (1.16.0)\r\n",
      "Requirement already satisfied: python-dateutil>=2.8.2 in /opt/conda/lib/python3.10/site-packages (from pandas->wolta) (2.9.0.post0)\r\n",
      "Requirement already satisfied: pytz>=2020.1 in /opt/conda/lib/python3.10/site-packages (from pandas->wolta) (2024.1)\r\n",
      "Requirement already satisfied: tzdata>=2022.7 in /opt/conda/lib/python3.10/site-packages (from pandas->wolta) (2024.1)\r\n",
      "Requirement already satisfied: networkx>=2.2 in /opt/conda/lib/python3.10/site-packages (from hyperopt->wolta) (3.3)\r\n",
      "Requirement already satisfied: future in /opt/conda/lib/python3.10/site-packages (from hyperopt->wolta) (1.0.0)\r\n",
      "Requirement already satisfied: tqdm in /opt/conda/lib/python3.10/site-packages (from hyperopt->wolta) (4.66.4)\r\n",
      "Requirement already satisfied: cloudpickle in /opt/conda/lib/python3.10/site-packages (from hyperopt->wolta) (3.0.0)\r\n",
      "Requirement already satisfied: py4j in /opt/conda/lib/python3.10/site-packages (from hyperopt->wolta) (0.10.9.7)\r\n",
      "Requirement already satisfied: imbalanced-learn in /opt/conda/lib/python3.10/site-packages (from imblearn->wolta) (0.12.3)\r\n",
      "Requirement already satisfied: contourpy>=1.0.1 in /opt/conda/lib/python3.10/site-packages (from matplotlib->wolta) (1.2.1)\r\n",
      "Requirement already satisfied: cycler>=0.10 in /opt/conda/lib/python3.10/site-packages (from matplotlib->wolta) (0.12.1)\r\n",
      "Requirement already satisfied: fonttools>=4.22.0 in /opt/conda/lib/python3.10/site-packages (from matplotlib->wolta) (4.53.0)\r\n",
      "Requirement already satisfied: kiwisolver>=1.0.1 in /opt/conda/lib/python3.10/site-packages (from matplotlib->wolta) (1.4.5)\r\n",
      "Requirement already satisfied: packaging>=20.0 in /opt/conda/lib/python3.10/site-packages (from matplotlib->wolta) (21.3)\r\n",
      "Requirement already satisfied: pillow>=6.2.0 in /opt/conda/lib/python3.10/site-packages (from matplotlib->wolta) (10.3.0)\r\n",
      "Requirement already satisfied: pyparsing>=2.3.1 in /opt/conda/lib/python3.10/site-packages (from matplotlib->wolta) (3.1.2)\r\n",
      "Requirement already satisfied: joblib>=1.1.1 in /opt/conda/lib/python3.10/site-packages (from scikit-learn->wolta) (1.4.2)\r\n",
      "Requirement already satisfied: threadpoolctl>=2.0.0 in /opt/conda/lib/python3.10/site-packages (from scikit-learn->wolta) (3.5.0)\r\n",
      "Requirement already satisfied: tenacity>=6.2.0 in /opt/conda/lib/python3.10/site-packages (from plotly->catboost->wolta) (8.3.0)\r\n",
      "Downloading wolta-0.3.5-py3-none-any.whl (17 kB)\r\n",
      "Downloading imblearn-0.0-py2.py3-none-any.whl (1.9 kB)\r\n",
      "Installing collected packages: imblearn, wolta\r\n",
      "Successfully installed imblearn-0.0 wolta-0.3.5\r\n"
     ]
    }
   ],
   "source": [
    "!pip install wolta"
   ]
  },
  {
   "cell_type": "code",
   "execution_count": 3,
   "id": "344fcd38",
   "metadata": {
    "execution": {
     "iopub.execute_input": "2024-12-09T05:33:18.619177Z",
     "iopub.status.busy": "2024-12-09T05:33:18.618898Z",
     "iopub.status.idle": "2024-12-09T05:33:27.949090Z",
     "shell.execute_reply": "2024-12-09T05:33:27.947976Z"
    },
    "papermill": {
     "duration": 9.337361,
     "end_time": "2024-12-09T05:33:27.951149",
     "exception": false,
     "start_time": "2024-12-09T05:33:18.613788",
     "status": "completed"
    },
    "tags": []
   },
   "outputs": [
    {
     "name": "stdout",
     "output_type": "stream",
     "text": [
      "Collecting ultralytics\r\n",
      "  Downloading ultralytics-8.3.48-py3-none-any.whl.metadata (35 kB)\r\n",
      "Requirement already satisfied: numpy>=1.23.0 in /opt/conda/lib/python3.10/site-packages (from ultralytics) (1.26.4)\r\n",
      "Requirement already satisfied: matplotlib>=3.3.0 in /opt/conda/lib/python3.10/site-packages (from ultralytics) (3.7.5)\r\n",
      "Requirement already satisfied: opencv-python>=4.6.0 in /opt/conda/lib/python3.10/site-packages (from ultralytics) (4.10.0.84)\r\n",
      "Requirement already satisfied: pillow>=7.1.2 in /opt/conda/lib/python3.10/site-packages (from ultralytics) (10.3.0)\r\n",
      "Requirement already satisfied: pyyaml>=5.3.1 in /opt/conda/lib/python3.10/site-packages (from ultralytics) (6.0.2)\r\n",
      "Requirement already satisfied: requests>=2.23.0 in /opt/conda/lib/python3.10/site-packages (from ultralytics) (2.32.3)\r\n",
      "Requirement already satisfied: scipy>=1.4.1 in /opt/conda/lib/python3.10/site-packages (from ultralytics) (1.14.1)\r\n",
      "Requirement already satisfied: torch>=1.8.0 in /opt/conda/lib/python3.10/site-packages (from ultralytics) (2.4.0)\r\n",
      "Requirement already satisfied: torchvision>=0.9.0 in /opt/conda/lib/python3.10/site-packages (from ultralytics) (0.19.0)\r\n",
      "Requirement already satisfied: tqdm>=4.64.0 in /opt/conda/lib/python3.10/site-packages (from ultralytics) (4.66.4)\r\n",
      "Requirement already satisfied: psutil in /opt/conda/lib/python3.10/site-packages (from ultralytics) (5.9.3)\r\n",
      "Requirement already satisfied: py-cpuinfo in /opt/conda/lib/python3.10/site-packages (from ultralytics) (9.0.0)\r\n",
      "Requirement already satisfied: pandas>=1.1.4 in /opt/conda/lib/python3.10/site-packages (from ultralytics) (2.2.2)\r\n",
      "Requirement already satisfied: seaborn>=0.11.0 in /opt/conda/lib/python3.10/site-packages (from ultralytics) (0.12.2)\r\n",
      "Collecting ultralytics-thop>=2.0.0 (from ultralytics)\r\n",
      "  Downloading ultralytics_thop-2.0.13-py3-none-any.whl.metadata (9.4 kB)\r\n",
      "Requirement already satisfied: contourpy>=1.0.1 in /opt/conda/lib/python3.10/site-packages (from matplotlib>=3.3.0->ultralytics) (1.2.1)\r\n",
      "Requirement already satisfied: cycler>=0.10 in /opt/conda/lib/python3.10/site-packages (from matplotlib>=3.3.0->ultralytics) (0.12.1)\r\n",
      "Requirement already satisfied: fonttools>=4.22.0 in /opt/conda/lib/python3.10/site-packages (from matplotlib>=3.3.0->ultralytics) (4.53.0)\r\n",
      "Requirement already satisfied: kiwisolver>=1.0.1 in /opt/conda/lib/python3.10/site-packages (from matplotlib>=3.3.0->ultralytics) (1.4.5)\r\n",
      "Requirement already satisfied: packaging>=20.0 in /opt/conda/lib/python3.10/site-packages (from matplotlib>=3.3.0->ultralytics) (21.3)\r\n",
      "Requirement already satisfied: pyparsing>=2.3.1 in /opt/conda/lib/python3.10/site-packages (from matplotlib>=3.3.0->ultralytics) (3.1.2)\r\n",
      "Requirement already satisfied: python-dateutil>=2.7 in /opt/conda/lib/python3.10/site-packages (from matplotlib>=3.3.0->ultralytics) (2.9.0.post0)\r\n",
      "Requirement already satisfied: pytz>=2020.1 in /opt/conda/lib/python3.10/site-packages (from pandas>=1.1.4->ultralytics) (2024.1)\r\n",
      "Requirement already satisfied: tzdata>=2022.7 in /opt/conda/lib/python3.10/site-packages (from pandas>=1.1.4->ultralytics) (2024.1)\r\n",
      "Requirement already satisfied: charset-normalizer<4,>=2 in /opt/conda/lib/python3.10/site-packages (from requests>=2.23.0->ultralytics) (3.3.2)\r\n",
      "Requirement already satisfied: idna<4,>=2.5 in /opt/conda/lib/python3.10/site-packages (from requests>=2.23.0->ultralytics) (3.7)\r\n",
      "Requirement already satisfied: urllib3<3,>=1.21.1 in /opt/conda/lib/python3.10/site-packages (from requests>=2.23.0->ultralytics) (1.26.18)\r\n",
      "Requirement already satisfied: certifi>=2017.4.17 in /opt/conda/lib/python3.10/site-packages (from requests>=2.23.0->ultralytics) (2024.8.30)\r\n",
      "Requirement already satisfied: filelock in /opt/conda/lib/python3.10/site-packages (from torch>=1.8.0->ultralytics) (3.15.1)\r\n",
      "Requirement already satisfied: typing-extensions>=4.8.0 in /opt/conda/lib/python3.10/site-packages (from torch>=1.8.0->ultralytics) (4.12.2)\r\n",
      "Requirement already satisfied: sympy in /opt/conda/lib/python3.10/site-packages (from torch>=1.8.0->ultralytics) (1.13.3)\r\n",
      "Requirement already satisfied: networkx in /opt/conda/lib/python3.10/site-packages (from torch>=1.8.0->ultralytics) (3.3)\r\n",
      "Requirement already satisfied: jinja2 in /opt/conda/lib/python3.10/site-packages (from torch>=1.8.0->ultralytics) (3.1.4)\r\n",
      "Requirement already satisfied: fsspec in /opt/conda/lib/python3.10/site-packages (from torch>=1.8.0->ultralytics) (2024.6.1)\r\n",
      "Requirement already satisfied: six>=1.5 in /opt/conda/lib/python3.10/site-packages (from python-dateutil>=2.7->matplotlib>=3.3.0->ultralytics) (1.16.0)\r\n",
      "Requirement already satisfied: MarkupSafe>=2.0 in /opt/conda/lib/python3.10/site-packages (from jinja2->torch>=1.8.0->ultralytics) (2.1.5)\r\n",
      "Requirement already satisfied: mpmath<1.4,>=1.1.0 in /opt/conda/lib/python3.10/site-packages (from sympy->torch>=1.8.0->ultralytics) (1.3.0)\r\n",
      "Downloading ultralytics-8.3.48-py3-none-any.whl (898 kB)\r\n",
      "\u001b[2K   \u001b[90m━━━━━━━━━━━━━━━━━━━━━━━━━━━━━━━━━━━━━━━━\u001b[0m \u001b[32m898.8/898.8 kB\u001b[0m \u001b[31m16.8 MB/s\u001b[0m eta \u001b[36m0:00:00\u001b[0m\r\n",
      "\u001b[?25hDownloading ultralytics_thop-2.0.13-py3-none-any.whl (26 kB)\r\n",
      "Installing collected packages: ultralytics-thop, ultralytics\r\n",
      "Successfully installed ultralytics-8.3.48 ultralytics-thop-2.0.13\r\n"
     ]
    }
   ],
   "source": [
    "!pip install ultralytics"
   ]
  },
  {
   "cell_type": "code",
   "execution_count": 4,
   "id": "61797b56",
   "metadata": {
    "execution": {
     "iopub.execute_input": "2024-12-09T05:33:27.963663Z",
     "iopub.status.busy": "2024-12-09T05:33:27.963346Z",
     "iopub.status.idle": "2024-12-09T05:33:27.968298Z",
     "shell.execute_reply": "2024-12-09T05:33:27.967555Z"
    },
    "papermill": {
     "duration": 0.012484,
     "end_time": "2024-12-09T05:33:27.969932",
     "exception": false,
     "start_time": "2024-12-09T05:33:27.957448",
     "status": "completed"
    },
    "tags": []
   },
   "outputs": [],
   "source": [
    "os.environ['WANDB_MODE'] = 'disabled'"
   ]
  },
  {
   "cell_type": "markdown",
   "id": "f998c0c3",
   "metadata": {
    "papermill": {
     "duration": 0.004534,
     "end_time": "2024-12-09T05:33:27.979361",
     "exception": false,
     "start_time": "2024-12-09T05:33:27.974827",
     "status": "completed"
    },
    "tags": []
   },
   "source": [
    "# Data Analysis"
   ]
  },
  {
   "cell_type": "code",
   "execution_count": 5,
   "id": "ad522cb8",
   "metadata": {
    "execution": {
     "iopub.execute_input": "2024-12-09T05:33:27.989643Z",
     "iopub.status.busy": "2024-12-09T05:33:27.989412Z",
     "iopub.status.idle": "2024-12-09T05:36:08.510335Z",
     "shell.execute_reply": "2024-12-09T05:36:08.509485Z"
    },
    "papermill": {
     "duration": 160.533263,
     "end_time": "2024-12-09T05:36:08.517257",
     "exception": false,
     "start_time": "2024-12-09T05:33:27.983994",
     "status": "completed"
    },
    "tags": []
   },
   "outputs": [
    {
     "name": "stdout",
     "output_type": "stream",
     "text": [
      "/kaggle/input\n",
      "/kaggle/input/test\n",
      "/kaggle/input/test/FAKE\n",
      "/kaggle/input/test/REAL\n",
      "/kaggle/input/train\n",
      "/kaggle/input/train/FAKE\n",
      "/kaggle/input/train/REAL\n"
     ]
    }
   ],
   "source": [
    "for dirname, _, _ in os.walk('/kaggle/input'):\n",
    "    print(dirname)"
   ]
  },
  {
   "cell_type": "code",
   "execution_count": 6,
   "id": "487f3870",
   "metadata": {
    "execution": {
     "iopub.execute_input": "2024-12-09T05:36:08.528205Z",
     "iopub.status.busy": "2024-12-09T05:36:08.527918Z",
     "iopub.status.idle": "2024-12-09T05:36:08.534980Z",
     "shell.execute_reply": "2024-12-09T05:36:08.534297Z"
    },
    "papermill": {
     "duration": 0.01437,
     "end_time": "2024-12-09T05:36:08.536560",
     "exception": false,
     "start_time": "2024-12-09T05:36:08.522190",
     "status": "completed"
    },
    "tags": []
   },
   "outputs": [
    {
     "name": "stdout",
     "output_type": "stream",
     "text": [
      "['/kaggle/input/test/FAKE', '/kaggle/input/test/REAL', '/kaggle/input/train/FAKE', '/kaggle/input/train/REAL']\n"
     ]
    }
   ],
   "source": [
    "p_paths = glob('/kaggle/input/*')\n",
    "d_paths = []\n",
    "\n",
    "for p_path in p_paths:\n",
    "    d_paths.extend(glob('{}/*'.format(p_path)))\n",
    "print(d_paths)"
   ]
  },
  {
   "cell_type": "code",
   "execution_count": 7,
   "id": "c3b7a610",
   "metadata": {
    "execution": {
     "iopub.execute_input": "2024-12-09T05:36:08.547617Z",
     "iopub.status.busy": "2024-12-09T05:36:08.547402Z",
     "iopub.status.idle": "2024-12-09T05:36:08.860176Z",
     "shell.execute_reply": "2024-12-09T05:36:08.859302Z"
    },
    "papermill": {
     "duration": 0.320122,
     "end_time": "2024-12-09T05:36:08.862008",
     "exception": false,
     "start_time": "2024-12-09T05:36:08.541886",
     "status": "completed"
    },
    "tags": []
   },
   "outputs": [
    {
     "name": "stdout",
     "output_type": "stream",
     "text": [
      "120000\n"
     ]
    }
   ],
   "source": [
    "i_paths = []\n",
    "\n",
    "for d_path in d_paths:\n",
    "    i_paths.extend(glob('{}/*'.format(d_path)))\n",
    "\n",
    "print(len(i_paths))"
   ]
  },
  {
   "cell_type": "code",
   "execution_count": 8,
   "id": "25094fb2",
   "metadata": {
    "execution": {
     "iopub.execute_input": "2024-12-09T05:36:08.873269Z",
     "iopub.status.busy": "2024-12-09T05:36:08.872996Z",
     "iopub.status.idle": "2024-12-09T05:36:09.399360Z",
     "shell.execute_reply": "2024-12-09T05:36:09.398555Z"
    },
    "papermill": {
     "duration": 0.533932,
     "end_time": "2024-12-09T05:36:09.401185",
     "exception": false,
     "start_time": "2024-12-09T05:36:08.867253",
     "status": "completed"
    },
    "tags": []
   },
   "outputs": [
    {
     "data": {
      "text/plain": [
       "{'jpg': 120000}"
      ]
     },
     "execution_count": 8,
     "metadata": {},
     "output_type": "execute_result"
    }
   ],
   "source": [
    "from wolta.visual_tools import get_extensions\n",
    "\n",
    "get_extensions(i_paths)"
   ]
  },
  {
   "cell_type": "code",
   "execution_count": 9,
   "id": "ca2f0444",
   "metadata": {
    "execution": {
     "iopub.execute_input": "2024-12-09T05:36:09.413017Z",
     "iopub.status.busy": "2024-12-09T05:36:09.412374Z",
     "iopub.status.idle": "2024-12-09T05:45:24.022957Z",
     "shell.execute_reply": "2024-12-09T05:45:24.022074Z"
    },
    "papermill": {
     "duration": 554.628888,
     "end_time": "2024-12-09T05:45:24.035382",
     "exception": false,
     "start_time": "2024-12-09T05:36:09.406494",
     "status": "completed"
    },
    "tags": []
   },
   "outputs": [
    {
     "data": {
      "text/plain": [
       "True"
      ]
     },
     "execution_count": 9,
     "metadata": {},
     "output_type": "execute_result"
    }
   ],
   "source": [
    "from wolta.visual_tools import dataset_size_same\n",
    "\n",
    "dataset_size_same(i_paths)"
   ]
  },
  {
   "cell_type": "code",
   "execution_count": 10,
   "id": "d4b94c11",
   "metadata": {
    "execution": {
     "iopub.execute_input": "2024-12-09T05:45:24.051460Z",
     "iopub.status.busy": "2024-12-09T05:45:24.051145Z",
     "iopub.status.idle": "2024-12-09T05:45:24.057792Z",
     "shell.execute_reply": "2024-12-09T05:45:24.056894Z"
    },
    "papermill": {
     "duration": 0.01516,
     "end_time": "2024-12-09T05:45:24.059920",
     "exception": false,
     "start_time": "2024-12-09T05:45:24.044760",
     "status": "completed"
    },
    "tags": []
   },
   "outputs": [
    {
     "name": "stdout",
     "output_type": "stream",
     "text": [
      "Width: 32\n",
      "Height: 32\n",
      "Ratio: 1.0\n"
     ]
    }
   ],
   "source": [
    "temp_img = cv2.imread(i_paths[0])\n",
    "ratio = temp_img.shape[1] / temp_img.shape[0]\n",
    "\n",
    "print('Width: {}'.format(temp_img.shape[1]))\n",
    "print('Height: {}'.format(temp_img.shape[0]))\n",
    "print('Ratio: {}'.format(ratio))"
   ]
  },
  {
   "cell_type": "markdown",
   "id": "8cd1960f",
   "metadata": {
    "papermill": {
     "duration": 0.005753,
     "end_time": "2024-12-09T05:45:24.075907",
     "exception": false,
     "start_time": "2024-12-09T05:45:24.070154",
     "status": "completed"
    },
    "tags": []
   },
   "source": [
    "# Image Stacking"
   ]
  },
  {
   "cell_type": "code",
   "execution_count": 11,
   "id": "0f36f632",
   "metadata": {
    "execution": {
     "iopub.execute_input": "2024-12-09T05:45:24.087749Z",
     "iopub.status.busy": "2024-12-09T05:45:24.087489Z",
     "iopub.status.idle": "2024-12-09T05:45:24.091285Z",
     "shell.execute_reply": "2024-12-09T05:45:24.090525Z"
    },
    "papermill": {
     "duration": 0.011869,
     "end_time": "2024-12-09T05:45:24.093015",
     "exception": false,
     "start_time": "2024-12-09T05:45:24.081146",
     "status": "completed"
    },
    "tags": []
   },
   "outputs": [],
   "source": [
    "os.makedirs('/kaggle/working/raw')"
   ]
  },
  {
   "cell_type": "code",
   "execution_count": 12,
   "id": "e1f97e08",
   "metadata": {
    "execution": {
     "iopub.execute_input": "2024-12-09T05:45:24.105530Z",
     "iopub.status.busy": "2024-12-09T05:45:24.105256Z",
     "iopub.status.idle": "2024-12-09T05:47:18.081073Z",
     "shell.execute_reply": "2024-12-09T05:47:18.080291Z"
    },
    "papermill": {
     "duration": 113.983832,
     "end_time": "2024-12-09T05:47:18.083124",
     "exception": false,
     "start_time": "2024-12-09T05:45:24.099292",
     "status": "completed"
    },
    "tags": []
   },
   "outputs": [],
   "source": [
    "for d_path in d_paths:\n",
    "    current_dir = Path(d_path).name\n",
    "    current_path = '/kaggle/working/raw/{}'.format(current_dir) \n",
    "    os.makedirs(current_path, exist_ok=True)\n",
    "\n",
    "    i_paths = glob('{}/*'.format(d_path))\n",
    "\n",
    "    for i_path in i_paths:\n",
    "        shutil.copy(i_path, current_path)"
   ]
  },
  {
   "cell_type": "markdown",
   "id": "3cbb0549",
   "metadata": {
    "papermill": {
     "duration": 0.004956,
     "end_time": "2024-12-09T05:47:18.093636",
     "exception": false,
     "start_time": "2024-12-09T05:47:18.088680",
     "status": "completed"
    },
    "tags": []
   },
   "source": [
    "# Image Splitting"
   ]
  },
  {
   "cell_type": "code",
   "execution_count": 13,
   "id": "c589ffaf",
   "metadata": {
    "execution": {
     "iopub.execute_input": "2024-12-09T05:47:18.105471Z",
     "iopub.status.busy": "2024-12-09T05:47:18.104723Z",
     "iopub.status.idle": "2024-12-09T05:47:29.059243Z",
     "shell.execute_reply": "2024-12-09T05:47:29.058291Z"
    },
    "papermill": {
     "duration": 10.963339,
     "end_time": "2024-12-09T05:47:29.061975",
     "exception": false,
     "start_time": "2024-12-09T05:47:18.098636",
     "status": "completed"
    },
    "tags": []
   },
   "outputs": [],
   "source": [
    "from wolta.visual_tools import dir_split\n",
    "\n",
    "dir_split('/kaggle/working/raw', '/kaggle/working/data', test_size=0.2, val_size=0.2)"
   ]
  },
  {
   "cell_type": "code",
   "execution_count": 14,
   "id": "f0058f15",
   "metadata": {
    "execution": {
     "iopub.execute_input": "2024-12-09T05:47:29.079230Z",
     "iopub.status.busy": "2024-12-09T05:47:29.078950Z",
     "iopub.status.idle": "2024-12-09T05:47:31.422804Z",
     "shell.execute_reply": "2024-12-09T05:47:31.421907Z"
    },
    "papermill": {
     "duration": 2.352285,
     "end_time": "2024-12-09T05:47:31.424437",
     "exception": false,
     "start_time": "2024-12-09T05:47:29.072152",
     "status": "completed"
    },
    "tags": []
   },
   "outputs": [
    {
     "name": "stdout",
     "output_type": "stream",
     "text": [
      "Processing test/REAL...\n"
     ]
    },
    {
     "name": "stderr",
     "output_type": "stream",
     "text": [
      "100%|██████████| 10000/10000 [00:02<00:00, 4319.70it/s]\n"
     ]
    }
   ],
   "source": [
    "\n",
    "from tqdm import tqdm\n",
    "\n",
    "def add_gaussian_noise(image, mean=0, std=25):\n",
    "    \"\"\"Add Gaussian noise to an image.\"\"\"\n",
    "    noise = np.random.normal(mean, std, image.shape).astype(np.uint8)\n",
    "    noisy_image = cv2.add(image, noise)\n",
    "    return noisy_image\n",
    "\n",
    "def process_and_save_images(input_path, output_path):\n",
    "    \"\"\"Process images, add noise, and save to the output path.\"\"\"\n",
    "    if not os.path.exists(output_path):\n",
    "        os.makedirs(output_path)\n",
    "    \n",
    "    for img_name in tqdm(os.listdir(input_path)):\n",
    "        img_path = os.path.join(input_path, img_name)\n",
    "        if os.path.isfile(img_path):\n",
    "            # Read image\n",
    "            image = cv2.imread(img_path)\n",
    "            if image is None:\n",
    "                continue\n",
    "            # Add Gaussian noise\n",
    "            noisy_image = add_gaussian_noise(image)\n",
    "            # add _1 at the last of image name\n",
    "            img_name = img_name.split('.')[0] + '_1.' + img_name.split('.')[1]\n",
    "            # Save the noisy image to the output folder\n",
    "            output_img_path = os.path.join(output_path, img_name)\n",
    "            cv2.imwrite(output_img_path, noisy_image)\n",
    "base_dir = \"/kaggle/working/data\"  # Replace with the root path of your dataset\n",
    "subsets = [ \"test\"]\n",
    "categories = [\"REAL\", \"FAKE\"]\n",
    "\n",
    "for subset in subsets:\n",
    "    real_path = os.path.join(base_dir, subset, \"REAL\")\n",
    "    fake_path = os.path.join(base_dir, subset, \"FAKE\")\n",
    "\n",
    "    print(f\"Processing {subset}/REAL...\")\n",
    "    process_and_save_images(real_path, fake_path)\n"
   ]
  },
  {
   "cell_type": "code",
   "execution_count": null,
   "id": "57847373",
   "metadata": {
    "papermill": {
     "duration": 0.006122,
     "end_time": "2024-12-09T05:47:31.437083",
     "exception": false,
     "start_time": "2024-12-09T05:47:31.430961",
     "status": "completed"
    },
    "tags": []
   },
   "outputs": [],
   "source": []
  },
  {
   "cell_type": "code",
   "execution_count": 15,
   "id": "991c5d17",
   "metadata": {
    "execution": {
     "iopub.execute_input": "2024-12-09T05:47:31.450580Z",
     "iopub.status.busy": "2024-12-09T05:47:31.450280Z",
     "iopub.status.idle": "2024-12-09T05:47:31.673364Z",
     "shell.execute_reply": "2024-12-09T05:47:31.672546Z"
    },
    "papermill": {
     "duration": 0.231726,
     "end_time": "2024-12-09T05:47:31.674946",
     "exception": false,
     "start_time": "2024-12-09T05:47:31.443220",
     "status": "completed"
    },
    "tags": []
   },
   "outputs": [
    {
     "data": {
      "text/plain": [
       "{'REAL': 50000, 'FAKE': 68394}"
      ]
     },
     "execution_count": 15,
     "metadata": {},
     "output_type": "execute_result"
    }
   ],
   "source": [
    "from wolta.visual_tools import cls_img_counter\n",
    "\n",
    "cls_img_counter('/kaggle/working/data')"
   ]
  },
  {
   "cell_type": "markdown",
   "id": "2f5bb9d3",
   "metadata": {
    "papermill": {
     "duration": 0.006439,
     "end_time": "2024-12-09T05:47:31.687834",
     "exception": false,
     "start_time": "2024-12-09T05:47:31.681395",
     "status": "completed"
    },
    "tags": []
   },
   "source": [
    "# YOLO"
   ]
  },
  {
   "cell_type": "code",
   "execution_count": 16,
   "id": "37528220",
   "metadata": {
    "execution": {
     "iopub.execute_input": "2024-12-09T05:47:31.702304Z",
     "iopub.status.busy": "2024-12-09T05:47:31.701820Z",
     "iopub.status.idle": "2024-12-09T06:11:17.492834Z",
     "shell.execute_reply": "2024-12-09T06:11:17.491711Z"
    },
    "papermill": {
     "duration": 1425.80043,
     "end_time": "2024-12-09T06:11:17.495011",
     "exception": false,
     "start_time": "2024-12-09T05:47:31.694581",
     "status": "completed"
    },
    "tags": []
   },
   "outputs": [
    {
     "name": "stdout",
     "output_type": "stream",
     "text": [
      "Creating new Ultralytics Settings v0.0.6 file ✅ \n",
      "View Ultralytics Settings with 'yolo settings' or at '/root/.config/Ultralytics/settings.json'\n",
      "Update Settings with 'yolo settings key=value', i.e. 'yolo settings runs_dir=path/to/dir'. For help see https://docs.ultralytics.com/quickstart/#ultralytics-settings.\n",
      "Downloading https://github.com/ultralytics/assets/releases/download/v8.3.0/yolo11x-cls.pt to 'yolo11x-cls.pt'...\n"
     ]
    },
    {
     "name": "stderr",
     "output_type": "stream",
     "text": [
      "100%|██████████| 56.9M/56.9M [00:00<00:00, 220MB/s]\n"
     ]
    },
    {
     "name": "stdout",
     "output_type": "stream",
     "text": [
      "Ultralytics 8.3.48 🚀 Python-3.10.14 torch-2.4.0 CUDA:0 (Tesla T4, 15095MiB)\n",
      "\u001b[34m\u001b[1mengine/trainer: \u001b[0mtask=classify, mode=train, model=yolo11x-cls.pt, data=/kaggle/working/data, epochs=5, time=None, patience=100, batch=16, imgsz=32, save=True, save_period=-1, cache=False, device=None, workers=8, project=None, name=train, exist_ok=False, pretrained=True, optimizer=auto, verbose=True, seed=0, deterministic=True, single_cls=False, rect=False, cos_lr=False, close_mosaic=10, resume=False, amp=True, fraction=1.0, profile=False, freeze=None, multi_scale=False, overlap_mask=True, mask_ratio=4, dropout=0.0, val=True, split=val, save_json=False, save_hybrid=False, conf=None, iou=0.7, max_det=300, half=False, dnn=False, plots=True, source=None, vid_stride=1, stream_buffer=False, visualize=False, augment=False, agnostic_nms=False, classes=None, retina_masks=False, embed=None, show=False, save_frames=False, save_txt=False, save_conf=False, save_crop=False, show_labels=True, show_conf=True, show_boxes=True, line_width=None, format=torchscript, keras=False, optimize=False, int8=False, dynamic=False, simplify=True, opset=None, workspace=None, nms=False, lr0=0.01, lrf=0.01, momentum=0.937, weight_decay=0.0005, warmup_epochs=3.0, warmup_momentum=0.8, warmup_bias_lr=0.1, box=7.5, cls=0.5, dfl=1.5, pose=12.0, kobj=1.0, nbs=64, hsv_h=0.015, hsv_s=0.7, hsv_v=0.4, degrees=0.0, translate=0.1, scale=0.5, shear=0.0, perspective=0.0, flipud=0.0, fliplr=0.5, bgr=0.0, mosaic=1.0, mixup=0.0, copy_paste=0.0, copy_paste_mode=flip, auto_augment=randaugment, erasing=0.4, crop_fraction=1.0, cfg=None, tracker=botsort.yaml, save_dir=runs/classify/train\n",
      "\u001b[34m\u001b[1mtrain:\u001b[0m /kaggle/working/data/train... found 66000 images in 2 classes ✅ \n",
      "\u001b[34m\u001b[1mval:\u001b[0m /kaggle/working/data/val... found 22000 images in 2 classes ✅ \n",
      "\u001b[34m\u001b[1mtest:\u001b[0m /kaggle/working/data/test... found 30394 images in 2 classes ✅ \n"
     ]
    },
    {
     "name": "stderr",
     "output_type": "stream",
     "text": [
      "2024-12-09 05:47:39,157\tINFO util.py:124 -- Outdated packages:\n",
      "  ipywidgets==7.7.1 found, needs ipywidgets>=8\n",
      "Run `pip install -U ipywidgets`, then restart the notebook server for rich notebook output.\n",
      "2024-12-09 05:47:39,600\tINFO util.py:124 -- Outdated packages:\n",
      "  ipywidgets==7.7.1 found, needs ipywidgets>=8\n",
      "Run `pip install -U ipywidgets`, then restart the notebook server for rich notebook output.\n"
     ]
    },
    {
     "name": "stdout",
     "output_type": "stream",
     "text": [
      "Overriding model.yaml nc=80 with nc=2\n",
      "\n",
      "                   from  n    params  module                                       arguments                     \n",
      "  0                  -1  1      2784  ultralytics.nn.modules.conv.Conv             [3, 96, 3, 2]                 \n",
      "  1                  -1  1    166272  ultralytics.nn.modules.conv.Conv             [96, 192, 3, 2]               \n",
      "  2                  -1  2    389760  ultralytics.nn.modules.block.C3k2            [192, 384, 2, True, 0.25]     \n",
      "  3                  -1  1   1327872  ultralytics.nn.modules.conv.Conv             [384, 384, 3, 2]              \n",
      "  4                  -1  2   1553664  ultralytics.nn.modules.block.C3k2            [384, 768, 2, True, 0.25]     \n",
      "  5                  -1  1   5309952  ultralytics.nn.modules.conv.Conv             [768, 768, 3, 2]              \n",
      "  6                  -1  2   5022720  ultralytics.nn.modules.block.C3k2            [768, 768, 2, True]           \n",
      "  7                  -1  1   5309952  ultralytics.nn.modules.conv.Conv             [768, 768, 3, 2]              \n",
      "  8                  -1  2   5022720  ultralytics.nn.modules.block.C3k2            [768, 768, 2, True]           \n",
      "  9                  -1  2   3264768  ultralytics.nn.modules.block.C2PSA           [768, 768, 2]                 \n",
      " 10                  -1  1    988162  ultralytics.nn.modules.head.Classify         [768, 2]                      \n",
      "YOLO11x-cls summary: 309 layers, 28,358,626 parameters, 28,358,626 gradients, 111.0 GFLOPs\n",
      "Transferred 492/494 items from pretrained weights\n",
      "\u001b[34m\u001b[1mTensorBoard: \u001b[0mStart with 'tensorboard --logdir runs/classify/train', view at http://localhost:6006/\n",
      "\u001b[34m\u001b[1mAMP: \u001b[0mrunning Automatic Mixed Precision (AMP) checks...\n",
      "Downloading https://github.com/ultralytics/assets/releases/download/v8.3.0/yolo11n.pt to 'yolo11n.pt'...\n"
     ]
    },
    {
     "name": "stderr",
     "output_type": "stream",
     "text": [
      "100%|██████████| 5.35M/5.35M [00:00<00:00, 73.6MB/s]\n"
     ]
    },
    {
     "name": "stdout",
     "output_type": "stream",
     "text": [
      "\u001b[34m\u001b[1mAMP: \u001b[0mchecks passed ✅\n"
     ]
    },
    {
     "name": "stderr",
     "output_type": "stream",
     "text": [
      "\u001b[34m\u001b[1mtrain: \u001b[0mScanning /kaggle/working/data/train... 66000 images, 0 corrupt: 100%|██████████| 66000/66000 [00:31<00:00, 2092.59it/s]\n"
     ]
    },
    {
     "name": "stdout",
     "output_type": "stream",
     "text": [
      "\u001b[34m\u001b[1mtrain: \u001b[0mNew cache created: /kaggle/working/data/train.cache\n"
     ]
    },
    {
     "name": "stderr",
     "output_type": "stream",
     "text": [
      "/opt/conda/lib/python3.10/multiprocessing/popen_fork.py:66: RuntimeWarning: os.fork() was called. os.fork() is incompatible with multithreaded code, and JAX is multithreaded, so this will likely lead to a deadlock.\n",
      "  self.pid = os.fork()\n",
      "\u001b[34m\u001b[1mval: \u001b[0mScanning /kaggle/working/data/val... 22000 images, 0 corrupt: 100%|██████████| 22000/22000 [00:09<00:00, 2216.28it/s]\n"
     ]
    },
    {
     "name": "stdout",
     "output_type": "stream",
     "text": [
      "\u001b[34m\u001b[1mval: \u001b[0mNew cache created: /kaggle/working/data/val.cache\n",
      "\u001b[34m\u001b[1moptimizer:\u001b[0m 'optimizer=auto' found, ignoring 'lr0=0.01' and 'momentum=0.937' and determining best 'optimizer', 'lr0' and 'momentum' automatically... \n",
      "\u001b[34m\u001b[1moptimizer:\u001b[0m AdamW(lr=0.000714, momentum=0.9) with parameter groups 82 weight(decay=0.0), 83 weight(decay=0.0005), 83 bias(decay=0.0)\n",
      "\u001b[34m\u001b[1mTensorBoard: \u001b[0mmodel graph visualization added ✅\n",
      "Image sizes 32 train, 32 val\n",
      "Using 2 dataloader workers\n",
      "Logging results to \u001b[1mruns/classify/train\u001b[0m\n",
      "Starting training for 5 epochs...\n",
      "\n",
      "      Epoch    GPU_mem       loss  Instances       Size\n"
     ]
    },
    {
     "name": "stderr",
     "output_type": "stream",
     "text": [
      "        1/5     0.803G      1.007         16         32:   0%|          | 2/4125 [00:00<25:56,  2.65it/s]"
     ]
    },
    {
     "name": "stdout",
     "output_type": "stream",
     "text": [
      "Downloading https://ultralytics.com/assets/Arial.ttf to '/root/.config/Ultralytics/Arial.ttf'...\n"
     ]
    },
    {
     "name": "stderr",
     "output_type": "stream",
     "text": [
      "        1/5     0.803G     0.9091         16         32:   0%|          | 8/4125 [00:01<07:44,  8.86it/s]\n",
      "100%|██████████| 755k/755k [00:00<00:00, 15.9MB/s]\n",
      "        1/5     0.816G     0.5159         16         32: 100%|██████████| 4125/4125 [04:51<00:00, 14.15it/s]\n",
      "               classes   top1_acc   top5_acc: 100%|██████████| 688/688 [00:13<00:00, 52.02it/s]"
     ]
    },
    {
     "name": "stdout",
     "output_type": "stream",
     "text": [
      "                   all      0.848          1\n"
     ]
    },
    {
     "name": "stderr",
     "output_type": "stream",
     "text": [
      "\n"
     ]
    },
    {
     "name": "stdout",
     "output_type": "stream",
     "text": [
      "\n",
      "      Epoch    GPU_mem       loss  Instances       Size\n"
     ]
    },
    {
     "name": "stderr",
     "output_type": "stream",
     "text": [
      "        2/5      0.81G     0.3858         16         32: 100%|██████████| 4125/4125 [04:18<00:00, 15.98it/s]\n",
      "               classes   top1_acc   top5_acc: 100%|██████████| 688/688 [00:13<00:00, 52.68it/s]"
     ]
    },
    {
     "name": "stdout",
     "output_type": "stream",
     "text": [
      "                   all      0.852          1\n"
     ]
    },
    {
     "name": "stderr",
     "output_type": "stream",
     "text": [
      "\n"
     ]
    },
    {
     "name": "stdout",
     "output_type": "stream",
     "text": [
      "\n",
      "      Epoch    GPU_mem       loss  Instances       Size\n"
     ]
    },
    {
     "name": "stderr",
     "output_type": "stream",
     "text": [
      "        3/5     0.814G      0.344         16         32: 100%|██████████| 4125/4125 [04:06<00:00, 16.74it/s]\n",
      "               classes   top1_acc   top5_acc: 100%|██████████| 688/688 [00:13<00:00, 51.74it/s]"
     ]
    },
    {
     "name": "stdout",
     "output_type": "stream",
     "text": [
      "                   all      0.887          1\n"
     ]
    },
    {
     "name": "stderr",
     "output_type": "stream",
     "text": [
      "\n"
     ]
    },
    {
     "name": "stdout",
     "output_type": "stream",
     "text": [
      "\n",
      "      Epoch    GPU_mem       loss  Instances       Size\n"
     ]
    },
    {
     "name": "stderr",
     "output_type": "stream",
     "text": [
      "        4/5      0.81G      0.307         16         32: 100%|██████████| 4125/4125 [04:02<00:00, 17.03it/s]\n",
      "               classes   top1_acc   top5_acc: 100%|██████████| 688/688 [00:12<00:00, 53.17it/s]"
     ]
    },
    {
     "name": "stdout",
     "output_type": "stream",
     "text": [
      "                   all       0.91          1\n"
     ]
    },
    {
     "name": "stderr",
     "output_type": "stream",
     "text": [
      "\n"
     ]
    },
    {
     "name": "stdout",
     "output_type": "stream",
     "text": [
      "\n",
      "      Epoch    GPU_mem       loss  Instances       Size\n"
     ]
    },
    {
     "name": "stderr",
     "output_type": "stream",
     "text": [
      "        5/5     0.805G     0.2632         16         32: 100%|██████████| 4125/4125 [04:00<00:00, 17.17it/s]\n",
      "               classes   top1_acc   top5_acc: 100%|██████████| 688/688 [00:13<00:00, 52.72it/s]\n"
     ]
    },
    {
     "name": "stdout",
     "output_type": "stream",
     "text": [
      "                   all      0.912          1\n",
      "\n",
      "5 epochs completed in 0.376 hours.\n",
      "Optimizer stripped from runs/classify/train/weights/last.pt, 57.0MB\n",
      "Optimizer stripped from runs/classify/train/weights/best.pt, 57.0MB\n",
      "\n",
      "Validating runs/classify/train/weights/best.pt...\n",
      "Ultralytics 8.3.48 🚀 Python-3.10.14 torch-2.4.0 CUDA:0 (Tesla T4, 15095MiB)\n",
      "YOLO11x-cls summary (fused): 227 layers, 28,334,978 parameters, 0 gradients, 110.3 GFLOPs\n",
      "\u001b[34m\u001b[1mtrain:\u001b[0m /kaggle/working/data/train... found 66000 images in 2 classes ✅ \n",
      "\u001b[34m\u001b[1mval:\u001b[0m /kaggle/working/data/val... found 22000 images in 2 classes ✅ \n",
      "\u001b[34m\u001b[1mtest:\u001b[0m /kaggle/working/data/test... found 30394 images in 2 classes ✅ \n"
     ]
    },
    {
     "name": "stderr",
     "output_type": "stream",
     "text": [
      "               classes   top1_acc   top5_acc: 100%|██████████| 688/688 [00:10<00:00, 68.74it/s]\n"
     ]
    },
    {
     "name": "stdout",
     "output_type": "stream",
     "text": [
      "                   all      0.912          1\n",
      "Speed: 0.0ms preprocess, 0.4ms inference, 0.0ms loss, 0.0ms postprocess per image\n",
      "Results saved to \u001b[1mruns/classify/train\u001b[0m\n"
     ]
    }
   ],
   "source": [
    "from ultralytics import YOLO\n",
    "\n",
    "model = YOLO(model='yolo11x-cls.pt')\n",
    "results = model.train(data='/kaggle/working/data', epochs=5, imgsz=32, verbose= True)\n"
   ]
  },
  {
   "cell_type": "code",
   "execution_count": 17,
   "id": "1d5794fe",
   "metadata": {
    "execution": {
     "iopub.execute_input": "2024-12-09T06:11:20.575086Z",
     "iopub.status.busy": "2024-12-09T06:11:20.574688Z",
     "iopub.status.idle": "2024-12-09T06:11:59.625596Z",
     "shell.execute_reply": "2024-12-09T06:11:59.624775Z"
    },
    "papermill": {
     "duration": 40.543037,
     "end_time": "2024-12-09T06:11:59.627658",
     "exception": false,
     "start_time": "2024-12-09T06:11:19.084621",
     "status": "completed"
    },
    "tags": []
   },
   "outputs": [
    {
     "name": "stdout",
     "output_type": "stream",
     "text": [
      "Ultralytics 8.3.48 🚀 Python-3.10.14 torch-2.4.0 CUDA:0 (Tesla T4, 15095MiB)\n",
      "YOLO11x-cls summary (fused): 227 layers, 28,334,978 parameters, 0 gradients, 110.3 GFLOPs\n",
      "\u001b[34m\u001b[1mtrain:\u001b[0m /kaggle/working/data/train... found 66000 images in 2 classes ✅ \n",
      "\u001b[34m\u001b[1mval:\u001b[0m /kaggle/working/data/val... found 22000 images in 2 classes ✅ \n",
      "\u001b[34m\u001b[1mtest:\u001b[0m /kaggle/working/data/test... found 30394 images in 2 classes ✅ \n"
     ]
    },
    {
     "name": "stderr",
     "output_type": "stream",
     "text": [
      "\u001b[34m\u001b[1mtest: \u001b[0mScanning /kaggle/working/data/test... 30394 images, 0 corrupt: 100%|██████████| 30394/30394 [00:13<00:00, 2233.19it/s]\n"
     ]
    },
    {
     "name": "stdout",
     "output_type": "stream",
     "text": [
      "\u001b[34m\u001b[1mtest: \u001b[0mNew cache created: /kaggle/working/data/test.cache\n"
     ]
    },
    {
     "name": "stderr",
     "output_type": "stream",
     "text": [
      "/opt/conda/lib/python3.10/multiprocessing/popen_fork.py:66: RuntimeWarning: os.fork() was called. os.fork() is incompatible with multithreaded code, and JAX is multithreaded, so this will likely lead to a deadlock.\n",
      "  self.pid = os.fork()\n",
      "               classes   top1_acc   top5_acc: 100%|██████████| 1900/1900 [00:21<00:00, 86.96it/s]\n"
     ]
    },
    {
     "name": "stdout",
     "output_type": "stream",
     "text": [
      "                   all      0.797          1\n",
      "Speed: 0.0ms preprocess, 0.7ms inference, 0.0ms loss, 0.0ms postprocess per image\n",
      "Results saved to \u001b[1mruns/classify/train2\u001b[0m\n"
     ]
    },
    {
     "name": "stderr",
     "output_type": "stream",
     "text": [
      "/opt/conda/lib/python3.10/multiprocessing/popen_fork.py:66: RuntimeWarning: os.fork() was called. os.fork() is incompatible with multithreaded code, and JAX is multithreaded, so this will likely lead to a deadlock.\n",
      "  self.pid = os.fork()\n"
     ]
    }
   ],
   "source": [
    "test_results = model.val(data='/kaggle/working/data', imgsz=32, split=\"test\")"
   ]
  },
  {
   "cell_type": "code",
   "execution_count": 18,
   "id": "667c0c25",
   "metadata": {
    "execution": {
     "iopub.execute_input": "2024-12-09T06:12:02.695293Z",
     "iopub.status.busy": "2024-12-09T06:12:02.694920Z",
     "iopub.status.idle": "2024-12-09T06:12:02.837452Z",
     "shell.execute_reply": "2024-12-09T06:12:02.836446Z"
    },
    "papermill": {
     "duration": 1.708395,
     "end_time": "2024-12-09T06:12:02.839606",
     "exception": false,
     "start_time": "2024-12-09T06:12:01.131211",
     "status": "completed"
    },
    "tags": []
   },
   "outputs": [],
   "source": [
    "# Save the trained model\n",
    "model.save('trained_yolo_model.pt')\n",
    "shutil.rmtree('/kaggle/working/data')\n",
    "shutil.rmtree('/kaggle/working/raw')"
   ]
  }
 ],
 "metadata": {
  "kaggle": {
   "accelerator": "nvidiaTeslaT4",
   "dataSources": [
    {
     "datasetId": 3041726,
     "sourceId": 5256696,
     "sourceType": "datasetVersion"
    }
   ],
   "dockerImageVersionId": 30787,
   "isGpuEnabled": true,
   "isInternetEnabled": true,
   "language": "python",
   "sourceType": "notebook"
  },
  "kernelspec": {
   "display_name": "Python 3",
   "language": "python",
   "name": "python3"
  },
  "language_info": {
   "codemirror_mode": {
    "name": "ipython",
    "version": 3
   },
   "file_extension": ".py",
   "mimetype": "text/x-python",
   "name": "python",
   "nbconvert_exporter": "python",
   "pygments_lexer": "ipython3",
   "version": "3.10.14"
  },
  "papermill": {
   "default_parameters": {},
   "duration": 2351.81573,
   "end_time": "2024-12-09T06:12:07.190702",
   "environment_variables": {},
   "exception": null,
   "input_path": "__notebook__.ipynb",
   "output_path": "__notebook__.ipynb",
   "parameters": {},
   "start_time": "2024-12-09T05:32:55.374972",
   "version": "2.6.0"
  }
 },
 "nbformat": 4,
 "nbformat_minor": 5
}
