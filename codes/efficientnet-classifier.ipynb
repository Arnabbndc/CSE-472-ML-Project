{
 "cells": [
  {
   "cell_type": "code",
   "execution_count": 1,
   "id": "7756275f",
   "metadata": {
    "_cell_guid": "b1076dfc-b9ad-4769-8c92-a6c4dae69d19",
    "_uuid": "8f2839f25d086af736a60e9eeb907d3b93b6e0e5",
    "execution": {
     "iopub.execute_input": "2024-12-08T16:27:35.819957Z",
     "iopub.status.busy": "2024-12-08T16:27:35.819435Z",
     "iopub.status.idle": "2024-12-08T16:27:47.952684Z",
     "shell.execute_reply": "2024-12-08T16:27:47.952001Z"
    },
    "papermill": {
     "duration": 12.139264,
     "end_time": "2024-12-08T16:27:47.954647",
     "exception": false,
     "start_time": "2024-12-08T16:27:35.815383",
     "status": "completed"
    },
    "tags": []
   },
   "outputs": [],
   "source": [
    "import tensorflow as tf\n",
    "from tensorflow.keras import layers\n",
    "from tensorflow.keras.applications import EfficientNetB0\n",
    "from kaggle_datasets import KaggleDatasets\n",
    "\n",
    "# Step 1: Initialize TPU\n",
    "# try:\n",
    "#     tpu = tf.distribute.cluster_resolver.TPUClusterResolver()  # Detect TPU\n",
    "#     tf.config.experimental_connect_to_cluster(tpu)\n",
    "#     tf.tpu.experimental.initialize_tpu_system(tpu)\n",
    "#     strategy = tf.distribute.TPUStrategy(tpu)\n",
    "#     print(\"All TPU devices: \", tf.config.list_logical_devices('TPU'))\n",
    "# except ValueError:\n",
    "#     print(\"TPU not founddd.\")\n",
    "\n",
    "# strategy = tf.distribute.OneDeviceStrategy(device=\"/gpu:0\")\n",
    "strategy = tf.distribute.MirroredStrategy(devices=[\"/gpu:0\", \"/gpu:1\"])"
   ]
  },
  {
   "cell_type": "markdown",
   "id": "82e22d96",
   "metadata": {
    "papermill": {
     "duration": 0.001729,
     "end_time": "2024-12-08T16:27:47.958777",
     "exception": false,
     "start_time": "2024-12-08T16:27:47.957048",
     "status": "completed"
    },
    "tags": []
   },
   "source": [
    "# Use GPU"
   ]
  },
  {
   "cell_type": "code",
   "execution_count": 2,
   "id": "acd094b3",
   "metadata": {
    "execution": {
     "iopub.execute_input": "2024-12-08T16:27:47.963764Z",
     "iopub.status.busy": "2024-12-08T16:27:47.963346Z",
     "iopub.status.idle": "2024-12-08T16:27:47.968243Z",
     "shell.execute_reply": "2024-12-08T16:27:47.967444Z"
    },
    "papermill": {
     "duration": 0.009242,
     "end_time": "2024-12-08T16:27:47.969843",
     "exception": false,
     "start_time": "2024-12-08T16:27:47.960601",
     "status": "completed"
    },
    "tags": []
   },
   "outputs": [
    {
     "name": "stdout",
     "output_type": "stream",
     "text": [
      "Num GPUs Available:  2\n"
     ]
    }
   ],
   "source": [
    "import tensorflow as tf\n",
    "print(\"Num GPUs Available: \", len(tf.config.list_physical_devices('GPU')))"
   ]
  },
  {
   "cell_type": "markdown",
   "id": "d7535e38",
   "metadata": {
    "papermill": {
     "duration": 0.001782,
     "end_time": "2024-12-08T16:27:47.973595",
     "exception": false,
     "start_time": "2024-12-08T16:27:47.971813",
     "status": "completed"
    },
    "tags": []
   },
   "source": [
    "# Dataset "
   ]
  },
  {
   "cell_type": "code",
   "execution_count": 3,
   "id": "d04bf32a",
   "metadata": {
    "execution": {
     "iopub.execute_input": "2024-12-08T16:27:47.978267Z",
     "iopub.status.busy": "2024-12-08T16:27:47.978015Z",
     "iopub.status.idle": "2024-12-08T16:27:47.981362Z",
     "shell.execute_reply": "2024-12-08T16:27:47.980717Z"
    },
    "papermill": {
     "duration": 0.007273,
     "end_time": "2024-12-08T16:27:47.982780",
     "exception": false,
     "start_time": "2024-12-08T16:27:47.975507",
     "status": "completed"
    },
    "tags": []
   },
   "outputs": [],
   "source": [
    "import keras"
   ]
  },
  {
   "cell_type": "code",
   "execution_count": 4,
   "id": "d99a5417",
   "metadata": {
    "execution": {
     "iopub.execute_input": "2024-12-08T16:27:47.987713Z",
     "iopub.status.busy": "2024-12-08T16:27:47.987248Z",
     "iopub.status.idle": "2024-12-08T16:30:10.671430Z",
     "shell.execute_reply": "2024-12-08T16:30:10.670755Z"
    },
    "papermill": {
     "duration": 142.688881,
     "end_time": "2024-12-08T16:30:10.673553",
     "exception": false,
     "start_time": "2024-12-08T16:27:47.984672",
     "status": "completed"
    },
    "tags": []
   },
   "outputs": [
    {
     "name": "stdout",
     "output_type": "stream",
     "text": [
      "Found 100000 files belonging to 2 classes.\n",
      "Using 80000 files for training.\n",
      "Using 20000 files for validation.\n"
     ]
    }
   ],
   "source": [
    "image_size = (224, 224)\n",
    "batch_size = 128\n",
    "\n",
    "train_ds, val_ds = keras.utils.image_dataset_from_directory(\n",
    "    \"/kaggle/input/cifake-real-and-ai-generated-synthetic-images/train\",\n",
    "    validation_split=0.2,\n",
    "    subset=\"both\",\n",
    "    seed=1337,\n",
    "    image_size=image_size,\n",
    "    batch_size=batch_size,\n",
    ")"
   ]
  },
  {
   "cell_type": "code",
   "execution_count": 5,
   "id": "f9bc698d",
   "metadata": {
    "_cell_guid": "b1076dfc-b9ad-4769-8c92-a6c4dae69d19",
    "_uuid": "8f2839f25d086af736a60e9eeb907d3b93b6e0e5",
    "execution": {
     "iopub.execute_input": "2024-12-08T16:30:10.679366Z",
     "iopub.status.busy": "2024-12-08T16:30:10.679092Z",
     "iopub.status.idle": "2024-12-08T16:37:14.991634Z",
     "shell.execute_reply": "2024-12-08T16:37:14.990905Z"
    },
    "papermill": {
     "duration": 424.317916,
     "end_time": "2024-12-08T16:37:14.993854",
     "exception": false,
     "start_time": "2024-12-08T16:30:10.675938",
     "status": "completed"
    },
    "tags": []
   },
   "outputs": [
    {
     "name": "stdout",
     "output_type": "stream",
     "text": [
      "Downloading data from https://storage.googleapis.com/keras-applications/efficientnetb0_notop.h5\n",
      "\u001b[1m16705208/16705208\u001b[0m \u001b[32m━━━━━━━━━━━━━━━━━━━━\u001b[0m\u001b[37m\u001b[0m \u001b[1m0s\u001b[0m 0us/step\n",
      "Epoch 1/100\n"
     ]
    },
    {
     "name": "stderr",
     "output_type": "stream",
     "text": [
      "2024-12-08 16:31:29.888267: E tensorflow/core/grappler/optimizers/meta_optimizer.cc:961] layout failed: INVALID_ARGUMENT: Size of values 0 does not match size of permutation 4 @ fanin shape inStatefulPartitionedCall/cond/else/_1550/cond/StatefulPartitionedCall/replica_1/sequential_1/efficientnetb0_1/block2b_drop_1/stateless_dropout/SelectV2-2-TransposeNHWCToNCHW-LayoutOptimizer\n"
     ]
    },
    {
     "name": "stdout",
     "output_type": "stream",
     "text": [
      "\u001b[1m4/4\u001b[0m \u001b[32m━━━━━━━━━━━━━━━━━━━━\u001b[0m\u001b[37m\u001b[0m \u001b[1m127s\u001b[0m 3s/step - accuracy: 0.6509 - loss: 0.6245 - val_accuracy: 0.6250 - val_loss: 0.6178\n",
      "Epoch 2/100\n",
      "\u001b[1m4/4\u001b[0m \u001b[32m━━━━━━━━━━━━━━━━━━━━\u001b[0m\u001b[37m\u001b[0m \u001b[1m3s\u001b[0m 730ms/step - accuracy: 0.8784 - loss: 0.3208 - val_accuracy: 0.5781 - val_loss: 0.6882\n",
      "Epoch 3/100\n",
      "\u001b[1m4/4\u001b[0m \u001b[32m━━━━━━━━━━━━━━━━━━━━\u001b[0m\u001b[37m\u001b[0m \u001b[1m3s\u001b[0m 717ms/step - accuracy: 0.8707 - loss: 0.2961 - val_accuracy: 0.6562 - val_loss: 0.6201\n",
      "Epoch 4/100\n",
      "\u001b[1m4/4\u001b[0m \u001b[32m━━━━━━━━━━━━━━━━━━━━\u001b[0m\u001b[37m\u001b[0m \u001b[1m3s\u001b[0m 727ms/step - accuracy: 0.9060 - loss: 0.2896 - val_accuracy: 0.7344 - val_loss: 0.8132\n",
      "Epoch 5/100\n",
      "\u001b[1m4/4\u001b[0m \u001b[32m━━━━━━━━━━━━━━━━━━━━\u001b[0m\u001b[37m\u001b[0m \u001b[1m3s\u001b[0m 742ms/step - accuracy: 0.9322 - loss: 0.1850 - val_accuracy: 0.6406 - val_loss: 1.3505\n",
      "Epoch 6/100\n",
      "\u001b[1m4/4\u001b[0m \u001b[32m━━━━━━━━━━━━━━━━━━━━\u001b[0m\u001b[37m\u001b[0m \u001b[1m3s\u001b[0m 731ms/step - accuracy: 0.8952 - loss: 0.2262 - val_accuracy: 0.5312 - val_loss: 1.5332\n",
      "Epoch 7/100\n",
      "\u001b[1m4/4\u001b[0m \u001b[32m━━━━━━━━━━━━━━━━━━━━\u001b[0m\u001b[37m\u001b[0m \u001b[1m3s\u001b[0m 721ms/step - accuracy: 0.9039 - loss: 0.2734 - val_accuracy: 0.6094 - val_loss: 1.4707\n",
      "Epoch 8/100\n",
      "\u001b[1m4/4\u001b[0m \u001b[32m━━━━━━━━━━━━━━━━━━━━\u001b[0m\u001b[37m\u001b[0m \u001b[1m3s\u001b[0m 734ms/step - accuracy: 0.9198 - loss: 0.1792 - val_accuracy: 0.6250 - val_loss: 1.2744\n",
      "Epoch 9/100\n",
      "\u001b[1m4/4\u001b[0m \u001b[32m━━━━━━━━━━━━━━━━━━━━\u001b[0m\u001b[37m\u001b[0m \u001b[1m3s\u001b[0m 748ms/step - accuracy: 0.9195 - loss: 0.2131 - val_accuracy: 0.5781 - val_loss: 1.7339\n",
      "Epoch 10/100\n",
      "\u001b[1m4/4\u001b[0m \u001b[32m━━━━━━━━━━━━━━━━━━━━\u001b[0m\u001b[37m\u001b[0m \u001b[1m3s\u001b[0m 766ms/step - accuracy: 0.8928 - loss: 0.2402 - val_accuracy: 0.5000 - val_loss: 2.8790\n",
      "Epoch 11/100\n",
      "\u001b[1m4/4\u001b[0m \u001b[32m━━━━━━━━━━━━━━━━━━━━\u001b[0m\u001b[37m\u001b[0m \u001b[1m3s\u001b[0m 742ms/step - accuracy: 0.9208 - loss: 0.2259 - val_accuracy: 0.5469 - val_loss: 2.3824\n",
      "Epoch 12/100\n",
      "\u001b[1m4/4\u001b[0m \u001b[32m━━━━━━━━━━━━━━━━━━━━\u001b[0m\u001b[37m\u001b[0m \u001b[1m3s\u001b[0m 746ms/step - accuracy: 0.9031 - loss: 0.2293 - val_accuracy: 0.6250 - val_loss: 2.2101\n",
      "Epoch 13/100\n",
      "\u001b[1m4/4\u001b[0m \u001b[32m━━━━━━━━━━━━━━━━━━━━\u001b[0m\u001b[37m\u001b[0m \u001b[1m3s\u001b[0m 746ms/step - accuracy: 0.9016 - loss: 0.2742 - val_accuracy: 0.6094 - val_loss: 1.9413\n",
      "Epoch 14/100\n",
      "\u001b[1m4/4\u001b[0m \u001b[32m━━━━━━━━━━━━━━━━━━━━\u001b[0m\u001b[37m\u001b[0m \u001b[1m3s\u001b[0m 754ms/step - accuracy: 0.9208 - loss: 0.1925 - val_accuracy: 0.6562 - val_loss: 1.5057\n",
      "Epoch 15/100\n",
      "\u001b[1m4/4\u001b[0m \u001b[32m━━━━━━━━━━━━━━━━━━━━\u001b[0m\u001b[37m\u001b[0m \u001b[1m3s\u001b[0m 761ms/step - accuracy: 0.8993 - loss: 0.2328 - val_accuracy: 0.6406 - val_loss: 1.0391\n",
      "Epoch 16/100\n",
      "\u001b[1m4/4\u001b[0m \u001b[32m━━━━━━━━━━━━━━━━━━━━\u001b[0m\u001b[37m\u001b[0m \u001b[1m3s\u001b[0m 744ms/step - accuracy: 0.9249 - loss: 0.2131 - val_accuracy: 0.5469 - val_loss: 1.9221\n",
      "Epoch 17/100\n",
      "\u001b[1m4/4\u001b[0m \u001b[32m━━━━━━━━━━━━━━━━━━━━\u001b[0m\u001b[37m\u001b[0m \u001b[1m3s\u001b[0m 747ms/step - accuracy: 0.9453 - loss: 0.1501 - val_accuracy: 0.5312 - val_loss: 2.1706\n",
      "Epoch 18/100\n",
      "\u001b[1m4/4\u001b[0m \u001b[32m━━━━━━━━━━━━━━━━━━━━\u001b[0m\u001b[37m\u001b[0m \u001b[1m3s\u001b[0m 774ms/step - accuracy: 0.9199 - loss: 0.1973 - val_accuracy: 0.5938 - val_loss: 2.1913\n",
      "Epoch 19/100\n",
      "\u001b[1m4/4\u001b[0m \u001b[32m━━━━━━━━━━━━━━━━━━━━\u001b[0m\u001b[37m\u001b[0m \u001b[1m3s\u001b[0m 745ms/step - accuracy: 0.9323 - loss: 0.1655 - val_accuracy: 0.6094 - val_loss: 2.4078\n",
      "Epoch 20/100\n",
      "\u001b[1m4/4\u001b[0m \u001b[32m━━━━━━━━━━━━━━━━━━━━\u001b[0m\u001b[37m\u001b[0m \u001b[1m3s\u001b[0m 792ms/step - accuracy: 0.9230 - loss: 0.1863 - val_accuracy: 0.5938 - val_loss: 4.3186\n",
      "Epoch 21/100\n",
      "\u001b[1m4/4\u001b[0m \u001b[32m━━━━━━━━━━━━━━━━━━━━\u001b[0m\u001b[37m\u001b[0m \u001b[1m3s\u001b[0m 770ms/step - accuracy: 0.9249 - loss: 0.1752 - val_accuracy: 0.4531 - val_loss: 5.4067\n",
      "Epoch 22/100\n",
      "\u001b[1m4/4\u001b[0m \u001b[32m━━━━━━━━━━━━━━━━━━━━\u001b[0m\u001b[37m\u001b[0m \u001b[1m3s\u001b[0m 763ms/step - accuracy: 0.9358 - loss: 0.1501 - val_accuracy: 0.4844 - val_loss: 3.3601\n",
      "Epoch 23/100\n",
      "\u001b[1m4/4\u001b[0m \u001b[32m━━━━━━━━━━━━━━━━━━━━\u001b[0m\u001b[37m\u001b[0m \u001b[1m3s\u001b[0m 765ms/step - accuracy: 0.9098 - loss: 0.1987 - val_accuracy: 0.4844 - val_loss: 2.6398\n",
      "Epoch 24/100\n",
      "\u001b[1m4/4\u001b[0m \u001b[32m━━━━━━━━━━━━━━━━━━━━\u001b[0m\u001b[37m\u001b[0m \u001b[1m3s\u001b[0m 765ms/step - accuracy: 0.9548 - loss: 0.1301 - val_accuracy: 0.5938 - val_loss: 2.5270\n",
      "Epoch 25/100\n",
      "\u001b[1m4/4\u001b[0m \u001b[32m━━━━━━━━━━━━━━━━━━━━\u001b[0m\u001b[37m\u001b[0m \u001b[1m3s\u001b[0m 760ms/step - accuracy: 0.9327 - loss: 0.2128 - val_accuracy: 0.6094 - val_loss: 2.9975\n",
      "Epoch 26/100\n",
      "\u001b[1m4/4\u001b[0m \u001b[32m━━━━━━━━━━━━━━━━━━━━\u001b[0m\u001b[37m\u001b[0m \u001b[1m3s\u001b[0m 763ms/step - accuracy: 0.9371 - loss: 0.1641 - val_accuracy: 0.5312 - val_loss: 3.5918\n",
      "Epoch 27/100\n",
      "\u001b[1m4/4\u001b[0m \u001b[32m━━━━━━━━━━━━━━━━━━━━\u001b[0m\u001b[37m\u001b[0m \u001b[1m3s\u001b[0m 769ms/step - accuracy: 0.9199 - loss: 0.2250 - val_accuracy: 0.5156 - val_loss: 3.4382\n",
      "Epoch 28/100\n",
      "\u001b[1m4/4\u001b[0m \u001b[32m━━━━━━━━━━━━━━━━━━━━\u001b[0m\u001b[37m\u001b[0m \u001b[1m3s\u001b[0m 770ms/step - accuracy: 0.9280 - loss: 0.1672 - val_accuracy: 0.5469 - val_loss: 2.3451\n",
      "Epoch 29/100\n",
      "\u001b[1m4/4\u001b[0m \u001b[32m━━━━━━━━━━━━━━━━━━━━\u001b[0m\u001b[37m\u001b[0m \u001b[1m3s\u001b[0m 767ms/step - accuracy: 0.9382 - loss: 0.1677 - val_accuracy: 0.5469 - val_loss: 2.5632\n",
      "Epoch 30/100\n",
      "\u001b[1m4/4\u001b[0m \u001b[32m━━━━━━━━━━━━━━━━━━━━\u001b[0m\u001b[37m\u001b[0m \u001b[1m3s\u001b[0m 776ms/step - accuracy: 0.9522 - loss: 0.1441 - val_accuracy: 0.5625 - val_loss: 2.3882\n",
      "Epoch 31/100\n",
      "\u001b[1m4/4\u001b[0m \u001b[32m━━━━━━━━━━━━━━━━━━━━\u001b[0m\u001b[37m\u001b[0m \u001b[1m3s\u001b[0m 771ms/step - accuracy: 0.9130 - loss: 0.1774 - val_accuracy: 0.6094 - val_loss: 3.8388\n",
      "Epoch 32/100\n",
      "\u001b[1m4/4\u001b[0m \u001b[32m━━━━━━━━━━━━━━━━━━━━\u001b[0m\u001b[37m\u001b[0m \u001b[1m3s\u001b[0m 779ms/step - accuracy: 0.9208 - loss: 0.2087 - val_accuracy: 0.5938 - val_loss: 3.5644\n",
      "Epoch 33/100\n",
      "\u001b[1m4/4\u001b[0m \u001b[32m━━━━━━━━━━━━━━━━━━━━\u001b[0m\u001b[37m\u001b[0m \u001b[1m3s\u001b[0m 759ms/step - accuracy: 0.9419 - loss: 0.1396 - val_accuracy: 0.6406 - val_loss: 2.3365\n",
      "Epoch 34/100\n",
      "\u001b[1m4/4\u001b[0m \u001b[32m━━━━━━━━━━━━━━━━━━━━\u001b[0m\u001b[37m\u001b[0m \u001b[1m3s\u001b[0m 766ms/step - accuracy: 0.9331 - loss: 0.1381 - val_accuracy: 0.7031 - val_loss: 1.6092\n",
      "Epoch 35/100\n",
      "\u001b[1m4/4\u001b[0m \u001b[32m━━━━━━━━━━━━━━━━━━━━\u001b[0m\u001b[37m\u001b[0m \u001b[1m3s\u001b[0m 762ms/step - accuracy: 0.9318 - loss: 0.1642 - val_accuracy: 0.5469 - val_loss: 2.1294\n",
      "Epoch 36/100\n",
      "\u001b[1m4/4\u001b[0m \u001b[32m━━━━━━━━━━━━━━━━━━━━\u001b[0m\u001b[37m\u001b[0m \u001b[1m3s\u001b[0m 762ms/step - accuracy: 0.9612 - loss: 0.1028 - val_accuracy: 0.7188 - val_loss: 1.8947\n",
      "Epoch 37/100\n",
      "\u001b[1m4/4\u001b[0m \u001b[32m━━━━━━━━━━━━━━━━━━━━\u001b[0m\u001b[37m\u001b[0m \u001b[1m3s\u001b[0m 737ms/step - accuracy: 0.9138 - loss: 0.2042 - val_accuracy: 0.6719 - val_loss: 2.0869\n",
      "Epoch 38/100\n",
      "\u001b[1m4/4\u001b[0m \u001b[32m━━━━━━━━━━━━━━━━━━━━\u001b[0m\u001b[37m\u001b[0m \u001b[1m3s\u001b[0m 769ms/step - accuracy: 0.9612 - loss: 0.0959 - val_accuracy: 0.5625 - val_loss: 3.4770\n",
      "Epoch 39/100\n",
      "\u001b[1m4/4\u001b[0m \u001b[32m━━━━━━━━━━━━━━━━━━━━\u001b[0m\u001b[37m\u001b[0m \u001b[1m3s\u001b[0m 762ms/step - accuracy: 0.9521 - loss: 0.1545 - val_accuracy: 0.6250 - val_loss: 3.5439\n",
      "Epoch 40/100\n",
      "\u001b[1m4/4\u001b[0m \u001b[32m━━━━━━━━━━━━━━━━━━━━\u001b[0m\u001b[37m\u001b[0m \u001b[1m3s\u001b[0m 776ms/step - accuracy: 0.9590 - loss: 0.1292 - val_accuracy: 0.5156 - val_loss: 4.0723\n",
      "Epoch 41/100\n",
      "\u001b[1m4/4\u001b[0m \u001b[32m━━━━━━━━━━━━━━━━━━━━\u001b[0m\u001b[37m\u001b[0m \u001b[1m3s\u001b[0m 778ms/step - accuracy: 0.9122 - loss: 0.2059 - val_accuracy: 0.4688 - val_loss: 3.6975\n",
      "Epoch 42/100\n",
      "\u001b[1m4/4\u001b[0m \u001b[32m━━━━━━━━━━━━━━━━━━━━\u001b[0m\u001b[37m\u001b[0m \u001b[1m3s\u001b[0m 758ms/step - accuracy: 0.9497 - loss: 0.1584 - val_accuracy: 0.6719 - val_loss: 2.1001\n",
      "Epoch 43/100\n",
      "\u001b[1m4/4\u001b[0m \u001b[32m━━━━━━━━━━━━━━━━━━━━\u001b[0m\u001b[37m\u001b[0m \u001b[1m3s\u001b[0m 762ms/step - accuracy: 0.9257 - loss: 0.1708 - val_accuracy: 0.7812 - val_loss: 0.8499\n",
      "Epoch 44/100\n",
      "\u001b[1m4/4\u001b[0m \u001b[32m━━━━━━━━━━━━━━━━━━━━\u001b[0m\u001b[37m\u001b[0m \u001b[1m3s\u001b[0m 756ms/step - accuracy: 0.9607 - loss: 0.1480 - val_accuracy: 0.7656 - val_loss: 1.0125\n",
      "Epoch 45/100\n",
      "\u001b[1m4/4\u001b[0m \u001b[32m━━━━━━━━━━━━━━━━━━━━\u001b[0m\u001b[37m\u001b[0m \u001b[1m3s\u001b[0m 779ms/step - accuracy: 0.9220 - loss: 0.1724 - val_accuracy: 0.5938 - val_loss: 1.3705\n",
      "Epoch 46/100\n",
      "\u001b[1m4/4\u001b[0m \u001b[32m━━━━━━━━━━━━━━━━━━━━\u001b[0m\u001b[37m\u001b[0m \u001b[1m3s\u001b[0m 785ms/step - accuracy: 0.9362 - loss: 0.1525 - val_accuracy: 0.7188 - val_loss: 1.0427\n",
      "Epoch 47/100\n",
      "\u001b[1m4/4\u001b[0m \u001b[32m━━━━━━━━━━━━━━━━━━━━\u001b[0m\u001b[37m\u001b[0m \u001b[1m3s\u001b[0m 778ms/step - accuracy: 0.9417 - loss: 0.1891 - val_accuracy: 0.7188 - val_loss: 1.2186\n",
      "Epoch 48/100\n",
      "\u001b[1m4/4\u001b[0m \u001b[32m━━━━━━━━━━━━━━━━━━━━\u001b[0m\u001b[37m\u001b[0m \u001b[1m3s\u001b[0m 782ms/step - accuracy: 0.9448 - loss: 0.1271 - val_accuracy: 0.6406 - val_loss: 1.9602\n",
      "Epoch 49/100\n",
      "\u001b[1m4/4\u001b[0m \u001b[32m━━━━━━━━━━━━━━━━━━━━\u001b[0m\u001b[37m\u001b[0m \u001b[1m3s\u001b[0m 748ms/step - accuracy: 0.9277 - loss: 0.1783 - val_accuracy: 0.6094 - val_loss: 2.2432\n",
      "Epoch 50/100\n",
      "\u001b[1m4/4\u001b[0m \u001b[32m━━━━━━━━━━━━━━━━━━━━\u001b[0m\u001b[37m\u001b[0m \u001b[1m3s\u001b[0m 767ms/step - accuracy: 0.9312 - loss: 0.1704 - val_accuracy: 0.7344 - val_loss: 1.3845\n",
      "Epoch 51/100\n",
      "\u001b[1m4/4\u001b[0m \u001b[32m━━━━━━━━━━━━━━━━━━━━\u001b[0m\u001b[37m\u001b[0m \u001b[1m3s\u001b[0m 765ms/step - accuracy: 0.9512 - loss: 0.1578 - val_accuracy: 0.7344 - val_loss: 1.3073\n",
      "Epoch 52/100\n",
      "\u001b[1m4/4\u001b[0m \u001b[32m━━━━━━━━━━━━━━━━━━━━\u001b[0m\u001b[37m\u001b[0m \u001b[1m3s\u001b[0m 755ms/step - accuracy: 0.9257 - loss: 0.1874 - val_accuracy: 0.7656 - val_loss: 1.1631\n",
      "Epoch 53/100\n",
      "\u001b[1m4/4\u001b[0m \u001b[32m━━━━━━━━━━━━━━━━━━━━\u001b[0m\u001b[37m\u001b[0m \u001b[1m3s\u001b[0m 768ms/step - accuracy: 0.9362 - loss: 0.1619 - val_accuracy: 0.6094 - val_loss: 2.6008\n",
      "Epoch 54/100\n",
      "\u001b[1m4/4\u001b[0m \u001b[32m━━━━━━━━━━━━━━━━━━━━\u001b[0m\u001b[37m\u001b[0m \u001b[1m3s\u001b[0m 759ms/step - accuracy: 0.9473 - loss: 0.1469 - val_accuracy: 0.5469 - val_loss: 3.0536\n",
      "Epoch 55/100\n",
      "\u001b[1m4/4\u001b[0m \u001b[32m━━━━━━━━━━━━━━━━━━━━\u001b[0m\u001b[37m\u001b[0m \u001b[1m3s\u001b[0m 755ms/step - accuracy: 0.9505 - loss: 0.1642 - val_accuracy: 0.6406 - val_loss: 2.1903\n",
      "Epoch 56/100\n",
      "\u001b[1m4/4\u001b[0m \u001b[32m━━━━━━━━━━━━━━━━━━━━\u001b[0m\u001b[37m\u001b[0m \u001b[1m3s\u001b[0m 766ms/step - accuracy: 0.9288 - loss: 0.1480 - val_accuracy: 0.5938 - val_loss: 1.7368\n",
      "Epoch 57/100\n",
      "\u001b[1m4/4\u001b[0m \u001b[32m━━━━━━━━━━━━━━━━━━━━\u001b[0m\u001b[37m\u001b[0m \u001b[1m3s\u001b[0m 772ms/step - accuracy: 0.9337 - loss: 0.1745 - val_accuracy: 0.6562 - val_loss: 1.2216\n",
      "Epoch 58/100\n",
      "\u001b[1m4/4\u001b[0m \u001b[32m━━━━━━━━━━━━━━━━━━━━\u001b[0m\u001b[37m\u001b[0m \u001b[1m3s\u001b[0m 775ms/step - accuracy: 0.9526 - loss: 0.1179 - val_accuracy: 0.5938 - val_loss: 2.0968\n",
      "Epoch 59/100\n",
      "\u001b[1m4/4\u001b[0m \u001b[32m━━━━━━━━━━━━━━━━━━━━\u001b[0m\u001b[37m\u001b[0m \u001b[1m3s\u001b[0m 739ms/step - accuracy: 0.9473 - loss: 0.1521 - val_accuracy: 0.4688 - val_loss: 3.1441\n",
      "Epoch 60/100\n",
      "\u001b[1m4/4\u001b[0m \u001b[32m━━━━━━━━━━━━━━━━━━━━\u001b[0m\u001b[37m\u001b[0m \u001b[1m3s\u001b[0m 771ms/step - accuracy: 0.9574 - loss: 0.1475 - val_accuracy: 0.7031 - val_loss: 2.1485\n",
      "Epoch 61/100\n",
      "\u001b[1m4/4\u001b[0m \u001b[32m━━━━━━━━━━━━━━━━━━━━\u001b[0m\u001b[37m\u001b[0m \u001b[1m3s\u001b[0m 755ms/step - accuracy: 0.9509 - loss: 0.1236 - val_accuracy: 0.7031 - val_loss: 1.7004\n",
      "Epoch 62/100\n",
      "\u001b[1m4/4\u001b[0m \u001b[32m━━━━━━━━━━━━━━━━━━━━\u001b[0m\u001b[37m\u001b[0m \u001b[1m3s\u001b[0m 749ms/step - accuracy: 0.9324 - loss: 0.1641 - val_accuracy: 0.5625 - val_loss: 2.1292\n",
      "Epoch 63/100\n",
      "\u001b[1m4/4\u001b[0m \u001b[32m━━━━━━━━━━━━━━━━━━━━\u001b[0m\u001b[37m\u001b[0m \u001b[1m3s\u001b[0m 779ms/step - accuracy: 0.9514 - loss: 0.1131 - val_accuracy: 0.5938 - val_loss: 2.5089\n",
      "Epoch 64/100\n",
      "\u001b[1m4/4\u001b[0m \u001b[32m━━━━━━━━━━━━━━━━━━━━\u001b[0m\u001b[37m\u001b[0m \u001b[1m3s\u001b[0m 753ms/step - accuracy: 0.9477 - loss: 0.1266 - val_accuracy: 0.6562 - val_loss: 2.3865\n",
      "Epoch 65/100\n",
      "\u001b[1m4/4\u001b[0m \u001b[32m━━━━━━━━━━━━━━━━━━━━\u001b[0m\u001b[37m\u001b[0m \u001b[1m3s\u001b[0m 773ms/step - accuracy: 0.9730 - loss: 0.0791 - val_accuracy: 0.6719 - val_loss: 2.0655\n",
      "Epoch 66/100\n",
      "\u001b[1m4/4\u001b[0m \u001b[32m━━━━━━━━━━━━━━━━━━━━\u001b[0m\u001b[37m\u001b[0m \u001b[1m3s\u001b[0m 790ms/step - accuracy: 0.9406 - loss: 0.1405 - val_accuracy: 0.5000 - val_loss: 3.4454\n",
      "Epoch 67/100\n",
      "\u001b[1m4/4\u001b[0m \u001b[32m━━━━━━━━━━━━━━━━━━━━\u001b[0m\u001b[37m\u001b[0m \u001b[1m3s\u001b[0m 742ms/step - accuracy: 0.9456 - loss: 0.1265 - val_accuracy: 0.6250 - val_loss: 1.4364\n",
      "Epoch 68/100\n",
      "\u001b[1m4/4\u001b[0m \u001b[32m━━━━━━━━━━━━━━━━━━━━\u001b[0m\u001b[37m\u001b[0m \u001b[1m3s\u001b[0m 776ms/step - accuracy: 0.9430 - loss: 0.1536 - val_accuracy: 0.6406 - val_loss: 1.4500\n",
      "Epoch 69/100\n",
      "\u001b[1m4/4\u001b[0m \u001b[32m━━━━━━━━━━━━━━━━━━━━\u001b[0m\u001b[37m\u001b[0m \u001b[1m3s\u001b[0m 757ms/step - accuracy: 0.9410 - loss: 0.1236 - val_accuracy: 0.7031 - val_loss: 1.5383\n",
      "Epoch 70/100\n",
      "\u001b[1m4/4\u001b[0m \u001b[32m━━━━━━━━━━━━━━━━━━━━\u001b[0m\u001b[37m\u001b[0m \u001b[1m3s\u001b[0m 780ms/step - accuracy: 0.9565 - loss: 0.1337 - val_accuracy: 0.6875 - val_loss: 1.0155\n",
      "Epoch 71/100\n",
      "\u001b[1m4/4\u001b[0m \u001b[32m━━━━━━━━━━━━━━━━━━━━\u001b[0m\u001b[37m\u001b[0m \u001b[1m3s\u001b[0m 752ms/step - accuracy: 0.9401 - loss: 0.1377 - val_accuracy: 0.6406 - val_loss: 1.5230\n",
      "Epoch 72/100\n",
      "\u001b[1m4/4\u001b[0m \u001b[32m━━━━━━━━━━━━━━━━━━━━\u001b[0m\u001b[37m\u001b[0m \u001b[1m3s\u001b[0m 766ms/step - accuracy: 0.9492 - loss: 0.1296 - val_accuracy: 0.5781 - val_loss: 2.3008\n",
      "Epoch 73/100\n",
      "\u001b[1m4/4\u001b[0m \u001b[32m━━━━━━━━━━━━━━━━━━━━\u001b[0m\u001b[37m\u001b[0m \u001b[1m3s\u001b[0m 779ms/step - accuracy: 0.9525 - loss: 0.1226 - val_accuracy: 0.8125 - val_loss: 1.0046\n",
      "Epoch 74/100\n",
      "\u001b[1m4/4\u001b[0m \u001b[32m━━━━━━━━━━━━━━━━━━━━\u001b[0m\u001b[37m\u001b[0m \u001b[1m3s\u001b[0m 779ms/step - accuracy: 0.9525 - loss: 0.1226 - val_accuracy: 0.6562 - val_loss: 1.3663\n",
      "Epoch 75/100\n",
      "\u001b[1m4/4\u001b[0m \u001b[32m━━━━━━━━━━━━━━━━━━━━\u001b[0m\u001b[37m\u001b[0m \u001b[1m3s\u001b[0m 760ms/step - accuracy: 0.9424 - loss: 0.1208 - val_accuracy: 0.6875 - val_loss: 0.9582\n",
      "Epoch 76/100\n",
      "\u001b[1m4/4\u001b[0m \u001b[32m━━━━━━━━━━━━━━━━━━━━\u001b[0m\u001b[37m\u001b[0m \u001b[1m3s\u001b[0m 758ms/step - accuracy: 0.9365 - loss: 0.1161 - val_accuracy: 0.7188 - val_loss: 1.4652\n",
      "Epoch 77/100\n",
      "\u001b[1m4/4\u001b[0m \u001b[32m━━━━━━━━━━━━━━━━━━━━\u001b[0m\u001b[37m\u001b[0m \u001b[1m3s\u001b[0m 761ms/step - accuracy: 0.9530 - loss: 0.1051 - val_accuracy: 0.6562 - val_loss: 1.9450\n",
      "Epoch 78/100\n",
      "\u001b[1m4/4\u001b[0m \u001b[32m━━━━━━━━━━━━━━━━━━━━\u001b[0m\u001b[37m\u001b[0m \u001b[1m3s\u001b[0m 753ms/step - accuracy: 0.9534 - loss: 0.1094 - val_accuracy: 0.7031 - val_loss: 2.1794\n",
      "Epoch 79/100\n",
      "\u001b[1m4/4\u001b[0m \u001b[32m━━━━━━━━━━━━━━━━━━━━\u001b[0m\u001b[37m\u001b[0m \u001b[1m3s\u001b[0m 769ms/step - accuracy: 0.9737 - loss: 0.0830 - val_accuracy: 0.6875 - val_loss: 2.4606\n",
      "Epoch 80/100\n",
      "\u001b[1m4/4\u001b[0m \u001b[32m━━━━━━━━━━━━━━━━━━━━\u001b[0m\u001b[37m\u001b[0m \u001b[1m3s\u001b[0m 751ms/step - accuracy: 0.9310 - loss: 0.1686 - val_accuracy: 0.7500 - val_loss: 1.7077\n",
      "Epoch 81/100\n",
      "\u001b[1m4/4\u001b[0m \u001b[32m━━━━━━━━━━━━━━━━━━━━\u001b[0m\u001b[37m\u001b[0m \u001b[1m3s\u001b[0m 775ms/step - accuracy: 0.9480 - loss: 0.1018 - val_accuracy: 0.8906 - val_loss: 0.3980\n",
      "Epoch 82/100\n",
      "\u001b[1m4/4\u001b[0m \u001b[32m━━━━━━━━━━━━━━━━━━━━\u001b[0m\u001b[37m\u001b[0m \u001b[1m3s\u001b[0m 740ms/step - accuracy: 0.9371 - loss: 0.1649 - val_accuracy: 0.8281 - val_loss: 0.5831\n",
      "Epoch 83/100\n",
      "\u001b[1m4/4\u001b[0m \u001b[32m━━━━━━━━━━━━━━━━━━━━\u001b[0m\u001b[37m\u001b[0m \u001b[1m3s\u001b[0m 756ms/step - accuracy: 0.9658 - loss: 0.1240 - val_accuracy: 0.8438 - val_loss: 0.4934\n",
      "Epoch 84/100\n",
      "\u001b[1m4/4\u001b[0m \u001b[32m━━━━━━━━━━━━━━━━━━━━\u001b[0m\u001b[37m\u001b[0m \u001b[1m3s\u001b[0m 753ms/step - accuracy: 0.9454 - loss: 0.1409 - val_accuracy: 0.9375 - val_loss: 0.1624\n",
      "Epoch 85/100\n",
      "\u001b[1m4/4\u001b[0m \u001b[32m━━━━━━━━━━━━━━━━━━━━\u001b[0m\u001b[37m\u001b[0m \u001b[1m3s\u001b[0m 781ms/step - accuracy: 0.9561 - loss: 0.1163 - val_accuracy: 0.9688 - val_loss: 0.0936\n",
      "Epoch 86/100\n",
      "\u001b[1m4/4\u001b[0m \u001b[32m━━━━━━━━━━━━━━━━━━━━\u001b[0m\u001b[37m\u001b[0m \u001b[1m3s\u001b[0m 771ms/step - accuracy: 0.9464 - loss: 0.1539 - val_accuracy: 0.9531 - val_loss: 0.0997\n",
      "Epoch 87/100\n",
      "\u001b[1m4/4\u001b[0m \u001b[32m━━━━━━━━━━━━━━━━━━━━\u001b[0m\u001b[37m\u001b[0m \u001b[1m3s\u001b[0m 771ms/step - accuracy: 0.9574 - loss: 0.1207 - val_accuracy: 0.9531 - val_loss: 0.2048\n",
      "Epoch 88/100\n",
      "\u001b[1m4/4\u001b[0m \u001b[32m━━━━━━━━━━━━━━━━━━━━\u001b[0m\u001b[37m\u001b[0m \u001b[1m3s\u001b[0m 759ms/step - accuracy: 0.9508 - loss: 0.1359 - val_accuracy: 0.8594 - val_loss: 0.3847\n",
      "Epoch 89/100\n",
      "\u001b[1m4/4\u001b[0m \u001b[32m━━━━━━━━━━━━━━━━━━━━\u001b[0m\u001b[37m\u001b[0m \u001b[1m3s\u001b[0m 761ms/step - accuracy: 0.9259 - loss: 0.1697 - val_accuracy: 0.9219 - val_loss: 0.2035\n",
      "Epoch 90/100\n",
      "\u001b[1m4/4\u001b[0m \u001b[32m━━━━━━━━━━━━━━━━━━━━\u001b[0m\u001b[37m\u001b[0m \u001b[1m3s\u001b[0m 761ms/step - accuracy: 0.9466 - loss: 0.1331 - val_accuracy: 0.9375 - val_loss: 0.1637\n",
      "Epoch 91/100\n",
      "\u001b[1m4/4\u001b[0m \u001b[32m━━━━━━━━━━━━━━━━━━━━\u001b[0m\u001b[37m\u001b[0m \u001b[1m3s\u001b[0m 764ms/step - accuracy: 0.9538 - loss: 0.1242 - val_accuracy: 0.9688 - val_loss: 0.1844\n",
      "Epoch 92/100\n",
      "\u001b[1m4/4\u001b[0m \u001b[32m━━━━━━━━━━━━━━━━━━━━\u001b[0m\u001b[37m\u001b[0m \u001b[1m3s\u001b[0m 773ms/step - accuracy: 0.9832 - loss: 0.0591 - val_accuracy: 0.9375 - val_loss: 0.1656\n",
      "Epoch 93/100\n",
      "\u001b[1m4/4\u001b[0m \u001b[32m━━━━━━━━━━━━━━━━━━━━\u001b[0m\u001b[37m\u001b[0m \u001b[1m3s\u001b[0m 766ms/step - accuracy: 0.9564 - loss: 0.1770 - val_accuracy: 0.9688 - val_loss: 0.0944\n",
      "Epoch 94/100\n",
      "\u001b[1m4/4\u001b[0m \u001b[32m━━━━━━━━━━━━━━━━━━━━\u001b[0m\u001b[37m\u001b[0m \u001b[1m3s\u001b[0m 773ms/step - accuracy: 0.9551 - loss: 0.1225 - val_accuracy: 0.9531 - val_loss: 0.0913\n",
      "Epoch 95/100\n",
      "\u001b[1m4/4\u001b[0m \u001b[32m━━━━━━━━━━━━━━━━━━━━\u001b[0m\u001b[37m\u001b[0m \u001b[1m3s\u001b[0m 773ms/step - accuracy: 0.9568 - loss: 0.1094 - val_accuracy: 0.9062 - val_loss: 0.2101\n",
      "Epoch 96/100\n",
      "\u001b[1m4/4\u001b[0m \u001b[32m━━━━━━━━━━━━━━━━━━━━\u001b[0m\u001b[37m\u001b[0m \u001b[1m3s\u001b[0m 755ms/step - accuracy: 0.9501 - loss: 0.1176 - val_accuracy: 0.9219 - val_loss: 0.1778\n",
      "Epoch 97/100\n",
      "\u001b[1m4/4\u001b[0m \u001b[32m━━━━━━━━━━━━━━━━━━━━\u001b[0m\u001b[37m\u001b[0m \u001b[1m3s\u001b[0m 764ms/step - accuracy: 0.9505 - loss: 0.1112 - val_accuracy: 0.9219 - val_loss: 0.1979\n",
      "Epoch 98/100\n",
      "\u001b[1m4/4\u001b[0m \u001b[32m━━━━━━━━━━━━━━━━━━━━\u001b[0m\u001b[37m\u001b[0m \u001b[1m3s\u001b[0m 773ms/step - accuracy: 0.9634 - loss: 0.1038 - val_accuracy: 0.8906 - val_loss: 0.3011\n",
      "Epoch 99/100\n",
      "\u001b[1m4/4\u001b[0m \u001b[32m━━━━━━━━━━━━━━━━━━━━\u001b[0m\u001b[37m\u001b[0m \u001b[1m3s\u001b[0m 790ms/step - accuracy: 0.9422 - loss: 0.1680 - val_accuracy: 0.8906 - val_loss: 0.3368\n",
      "Epoch 100/100\n",
      "\u001b[1m4/4\u001b[0m \u001b[32m━━━━━━━━━━━━━━━━━━━━\u001b[0m\u001b[37m\u001b[0m \u001b[1m3s\u001b[0m 770ms/step - accuracy: 0.9393 - loss: 0.1465 - val_accuracy: 0.9219 - val_loss: 0.1943\n"
     ]
    }
   ],
   "source": [
    "with strategy.scope():\n",
    "    model = tf.keras.Sequential([\n",
    "        EfficientNetB0(include_top=False, input_shape=(224, 224, 3), pooling='avg'),\n",
    "        layers.Dense(1, activation='sigmoid')\n",
    "    ])\n",
    "\n",
    "    model.compile(\n",
    "        optimizer='adam',\n",
    "        loss='binary_crossentropy',\n",
    "        metrics=['accuracy']\n",
    "    )\n",
    "\n",
    "# Step 4: Train Model\n",
    "epochs = 100\n",
    "history = model.fit(\n",
    "    train_ds,\n",
    "    validation_data=val_ds,\n",
    "    epochs=epochs,\n",
    "    steps_per_epoch=len(train_ds) // batch_size,\n",
    "    validation_steps=len(val_ds) // batch_size\n",
    ")\n",
    "\n",
    "# Step 5: Save Model\n",
    "model.save(\"efficientnet_cifake.h5\")"
   ]
  },
  {
   "cell_type": "markdown",
   "id": "bde260b1",
   "metadata": {
    "papermill": {
     "duration": 0.027173,
     "end_time": "2024-12-08T16:37:15.049471",
     "exception": false,
     "start_time": "2024-12-08T16:37:15.022298",
     "status": "completed"
    },
    "tags": []
   },
   "source": [
    "# On Test Dataset"
   ]
  },
  {
   "cell_type": "code",
   "execution_count": 6,
   "id": "abff28d3",
   "metadata": {
    "execution": {
     "iopub.execute_input": "2024-12-08T16:37:15.106806Z",
     "iopub.status.busy": "2024-12-08T16:37:15.106245Z",
     "iopub.status.idle": "2024-12-08T16:38:14.565743Z",
     "shell.execute_reply": "2024-12-08T16:38:14.564847Z"
    },
    "papermill": {
     "duration": 59.490544,
     "end_time": "2024-12-08T16:38:14.567746",
     "exception": false,
     "start_time": "2024-12-08T16:37:15.077202",
     "status": "completed"
    },
    "tags": []
   },
   "outputs": [
    {
     "name": "stdout",
     "output_type": "stream",
     "text": [
      "Found 20000 files belonging to 2 classes.\n",
      "\u001b[1m157/157\u001b[0m \u001b[32m━━━━━━━━━━━━━━━━━━━━\u001b[0m\u001b[37m\u001b[0m \u001b[1m32s\u001b[0m 202ms/step - accuracy: 0.8345 - loss: 0.4824\n",
      "loss: 0.31516221165657043\n",
      "compile_metrics: 0.8787999749183655\n"
     ]
    }
   ],
   "source": [
    "test_ds = keras.utils.image_dataset_from_directory(\n",
    "    \"/kaggle/input/cifake-real-and-ai-generated-synthetic-images/test\",\n",
    "    image_size=image_size,\n",
    "    batch_size=batch_size,\n",
    ")\n",
    "result = model.evaluate(test_ds)\n",
    "# Print the metrics and their values\n",
    "for metric_name, metric_value in zip(model.metrics_names, result):\n",
    "    print(f\"{metric_name}: {metric_value}\")"
   ]
  }
 ],
 "metadata": {
  "kaggle": {
   "accelerator": "nvidiaTeslaT4",
   "dataSources": [
    {
     "datasetId": 3041726,
     "sourceId": 5256696,
     "sourceType": "datasetVersion"
    }
   ],
   "dockerImageVersionId": 30787,
   "isGpuEnabled": true,
   "isInternetEnabled": true,
   "language": "python",
   "sourceType": "notebook"
  },
  "kernelspec": {
   "display_name": "Python 3",
   "language": "python",
   "name": "python3"
  },
  "language_info": {
   "codemirror_mode": {
    "name": "ipython",
    "version": 3
   },
   "file_extension": ".py",
   "mimetype": "text/x-python",
   "name": "python",
   "nbconvert_exporter": "python",
   "pygments_lexer": "ipython3",
   "version": "3.10.14"
  },
  "papermill": {
   "default_parameters": {},
   "duration": 644.79563,
   "end_time": "2024-12-08T16:38:18.366832",
   "environment_variables": {},
   "exception": null,
   "input_path": "__notebook__.ipynb",
   "output_path": "__notebook__.ipynb",
   "parameters": {},
   "start_time": "2024-12-08T16:27:33.571202",
   "version": "2.6.0"
  }
 },
 "nbformat": 4,
 "nbformat_minor": 5
}
