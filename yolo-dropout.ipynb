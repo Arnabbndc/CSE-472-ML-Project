{
 "cells": [
  {
   "cell_type": "code",
   "execution_count": 1,
   "id": "7c55e8d1",
   "metadata": {
    "_cell_guid": "b1076dfc-b9ad-4769-8c92-a6c4dae69d19",
    "_uuid": "8f2839f25d086af736a60e9eeb907d3b93b6e0e5",
    "execution": {
     "iopub.execute_input": "2024-12-17T07:08:20.462171Z",
     "iopub.status.busy": "2024-12-17T07:08:20.460974Z",
     "iopub.status.idle": "2024-12-17T07:08:37.353311Z",
     "shell.execute_reply": "2024-12-17T07:08:37.352051Z"
    },
    "papermill": {
     "duration": 16.903708,
     "end_time": "2024-12-17T07:08:37.356104",
     "exception": false,
     "start_time": "2024-12-17T07:08:20.452396",
     "status": "completed"
    },
    "tags": []
   },
   "outputs": [],
   "source": [
    "import numpy as np \n",
    "import pandas as pd\n",
    "import tensorflow as tf\n",
    "\n",
    "import cv2\n",
    "import os\n",
    "import shutil\n",
    "\n",
    "from glob import glob\n",
    "from pathlib import Path"
   ]
  },
  {
   "cell_type": "code",
   "execution_count": 2,
   "id": "bb8de1b8",
   "metadata": {
    "execution": {
     "iopub.execute_input": "2024-12-17T07:08:37.369228Z",
     "iopub.status.busy": "2024-12-17T07:08:37.368510Z",
     "iopub.status.idle": "2024-12-17T07:08:50.348231Z",
     "shell.execute_reply": "2024-12-17T07:08:50.346578Z"
    },
    "papermill": {
     "duration": 12.98922,
     "end_time": "2024-12-17T07:08:50.350967",
     "exception": false,
     "start_time": "2024-12-17T07:08:37.361747",
     "status": "completed"
    },
    "tags": []
   },
   "outputs": [
    {
     "name": "stdout",
     "output_type": "stream",
     "text": [
      "Collecting wolta\r\n",
      "  Downloading wolta-0.3.5-py3-none-any.whl.metadata (960 bytes)\r\n",
      "Requirement already satisfied: scikit-learn in /opt/conda/lib/python3.10/site-packages (from wolta) (1.2.2)\r\n",
      "Requirement already satisfied: pandas in /opt/conda/lib/python3.10/site-packages (from wolta) (2.2.3)\r\n",
      "Requirement already satisfied: numpy in /opt/conda/lib/python3.10/site-packages (from wolta) (1.26.4)\r\n",
      "Requirement already satisfied: hyperopt in /opt/conda/lib/python3.10/site-packages (from wolta) (0.2.7)\r\n",
      "Requirement already satisfied: catboost in /opt/conda/lib/python3.10/site-packages (from wolta) (1.2.7)\r\n",
      "Collecting imblearn (from wolta)\r\n",
      "  Downloading imblearn-0.0-py2.py3-none-any.whl.metadata (355 bytes)\r\n",
      "Requirement already satisfied: lightgbm in /opt/conda/lib/python3.10/site-packages (from wolta) (4.2.0)\r\n",
      "Requirement already satisfied: matplotlib in /opt/conda/lib/python3.10/site-packages (from wolta) (3.7.5)\r\n",
      "Requirement already satisfied: opencv-python in /opt/conda/lib/python3.10/site-packages (from wolta) (4.10.0.84)\r\n",
      "Requirement already satisfied: graphviz in /opt/conda/lib/python3.10/site-packages (from catboost->wolta) (0.20.3)\r\n",
      "Requirement already satisfied: scipy in /opt/conda/lib/python3.10/site-packages (from catboost->wolta) (1.14.1)\r\n",
      "Requirement already satisfied: plotly in /opt/conda/lib/python3.10/site-packages (from catboost->wolta) (5.22.0)\r\n",
      "Requirement already satisfied: six in /opt/conda/lib/python3.10/site-packages (from catboost->wolta) (1.16.0)\r\n",
      "Requirement already satisfied: python-dateutil>=2.8.2 in /opt/conda/lib/python3.10/site-packages (from pandas->wolta) (2.9.0.post0)\r\n",
      "Requirement already satisfied: pytz>=2020.1 in /opt/conda/lib/python3.10/site-packages (from pandas->wolta) (2024.1)\r\n",
      "Requirement already satisfied: tzdata>=2022.7 in /opt/conda/lib/python3.10/site-packages (from pandas->wolta) (2024.1)\r\n",
      "Requirement already satisfied: networkx>=2.2 in /opt/conda/lib/python3.10/site-packages (from hyperopt->wolta) (3.3)\r\n",
      "Requirement already satisfied: future in /opt/conda/lib/python3.10/site-packages (from hyperopt->wolta) (1.0.0)\r\n",
      "Requirement already satisfied: tqdm in /opt/conda/lib/python3.10/site-packages (from hyperopt->wolta) (4.66.4)\r\n",
      "Requirement already satisfied: cloudpickle in /opt/conda/lib/python3.10/site-packages (from hyperopt->wolta) (3.1.0)\r\n",
      "Requirement already satisfied: py4j in /opt/conda/lib/python3.10/site-packages (from hyperopt->wolta) (0.10.9.7)\r\n",
      "Requirement already satisfied: imbalanced-learn in /opt/conda/lib/python3.10/site-packages (from imblearn->wolta) (0.12.4)\r\n",
      "Requirement already satisfied: contourpy>=1.0.1 in /opt/conda/lib/python3.10/site-packages (from matplotlib->wolta) (1.2.1)\r\n",
      "Requirement already satisfied: cycler>=0.10 in /opt/conda/lib/python3.10/site-packages (from matplotlib->wolta) (0.12.1)\r\n",
      "Requirement already satisfied: fonttools>=4.22.0 in /opt/conda/lib/python3.10/site-packages (from matplotlib->wolta) (4.53.0)\r\n",
      "Requirement already satisfied: kiwisolver>=1.0.1 in /opt/conda/lib/python3.10/site-packages (from matplotlib->wolta) (1.4.5)\r\n",
      "Requirement already satisfied: packaging>=20.0 in /opt/conda/lib/python3.10/site-packages (from matplotlib->wolta) (21.3)\r\n",
      "Requirement already satisfied: pillow>=6.2.0 in /opt/conda/lib/python3.10/site-packages (from matplotlib->wolta) (10.3.0)\r\n",
      "Requirement already satisfied: pyparsing>=2.3.1 in /opt/conda/lib/python3.10/site-packages (from matplotlib->wolta) (3.1.2)\r\n",
      "Requirement already satisfied: joblib>=1.1.1 in /opt/conda/lib/python3.10/site-packages (from scikit-learn->wolta) (1.4.2)\r\n",
      "Requirement already satisfied: threadpoolctl>=2.0.0 in /opt/conda/lib/python3.10/site-packages (from scikit-learn->wolta) (3.5.0)\r\n",
      "Requirement already satisfied: tenacity>=6.2.0 in /opt/conda/lib/python3.10/site-packages (from plotly->catboost->wolta) (8.3.0)\r\n",
      "Downloading wolta-0.3.5-py3-none-any.whl (17 kB)\r\n",
      "Downloading imblearn-0.0-py2.py3-none-any.whl (1.9 kB)\r\n",
      "Installing collected packages: imblearn, wolta\r\n",
      "Successfully installed imblearn-0.0 wolta-0.3.5\r\n"
     ]
    }
   ],
   "source": [
    "!pip install wolta"
   ]
  },
  {
   "cell_type": "code",
   "execution_count": 3,
   "id": "a3c77ec5",
   "metadata": {
    "execution": {
     "iopub.execute_input": "2024-12-17T07:08:50.367585Z",
     "iopub.status.busy": "2024-12-17T07:08:50.367120Z",
     "iopub.status.idle": "2024-12-17T07:09:02.230178Z",
     "shell.execute_reply": "2024-12-17T07:09:02.228649Z"
    },
    "papermill": {
     "duration": 11.875813,
     "end_time": "2024-12-17T07:09:02.233144",
     "exception": false,
     "start_time": "2024-12-17T07:08:50.357331",
     "status": "completed"
    },
    "tags": []
   },
   "outputs": [
    {
     "name": "stdout",
     "output_type": "stream",
     "text": [
      "Collecting ultralytics\r\n",
      "  Downloading ultralytics-8.3.50-py3-none-any.whl.metadata (35 kB)\r\n",
      "Requirement already satisfied: numpy>=1.23.0 in /opt/conda/lib/python3.10/site-packages (from ultralytics) (1.26.4)\r\n",
      "Requirement already satisfied: matplotlib>=3.3.0 in /opt/conda/lib/python3.10/site-packages (from ultralytics) (3.7.5)\r\n",
      "Requirement already satisfied: opencv-python>=4.6.0 in /opt/conda/lib/python3.10/site-packages (from ultralytics) (4.10.0.84)\r\n",
      "Requirement already satisfied: pillow>=7.1.2 in /opt/conda/lib/python3.10/site-packages (from ultralytics) (10.3.0)\r\n",
      "Requirement already satisfied: pyyaml>=5.3.1 in /opt/conda/lib/python3.10/site-packages (from ultralytics) (6.0.2)\r\n",
      "Requirement already satisfied: requests>=2.23.0 in /opt/conda/lib/python3.10/site-packages (from ultralytics) (2.32.3)\r\n",
      "Requirement already satisfied: scipy>=1.4.1 in /opt/conda/lib/python3.10/site-packages (from ultralytics) (1.14.1)\r\n",
      "Requirement already satisfied: torch>=1.8.0 in /opt/conda/lib/python3.10/site-packages (from ultralytics) (2.4.0+cpu)\r\n",
      "Requirement already satisfied: torchvision>=0.9.0 in /opt/conda/lib/python3.10/site-packages (from ultralytics) (0.19.0+cpu)\r\n",
      "Requirement already satisfied: tqdm>=4.64.0 in /opt/conda/lib/python3.10/site-packages (from ultralytics) (4.66.4)\r\n",
      "Requirement already satisfied: psutil in /opt/conda/lib/python3.10/site-packages (from ultralytics) (5.9.3)\r\n",
      "Requirement already satisfied: py-cpuinfo in /opt/conda/lib/python3.10/site-packages (from ultralytics) (9.0.0)\r\n",
      "Requirement already satisfied: pandas>=1.1.4 in /opt/conda/lib/python3.10/site-packages (from ultralytics) (2.2.3)\r\n",
      "Requirement already satisfied: seaborn>=0.11.0 in /opt/conda/lib/python3.10/site-packages (from ultralytics) (0.12.2)\r\n",
      "Collecting ultralytics-thop>=2.0.0 (from ultralytics)\r\n",
      "  Downloading ultralytics_thop-2.0.13-py3-none-any.whl.metadata (9.4 kB)\r\n",
      "Requirement already satisfied: contourpy>=1.0.1 in /opt/conda/lib/python3.10/site-packages (from matplotlib>=3.3.0->ultralytics) (1.2.1)\r\n",
      "Requirement already satisfied: cycler>=0.10 in /opt/conda/lib/python3.10/site-packages (from matplotlib>=3.3.0->ultralytics) (0.12.1)\r\n",
      "Requirement already satisfied: fonttools>=4.22.0 in /opt/conda/lib/python3.10/site-packages (from matplotlib>=3.3.0->ultralytics) (4.53.0)\r\n",
      "Requirement already satisfied: kiwisolver>=1.0.1 in /opt/conda/lib/python3.10/site-packages (from matplotlib>=3.3.0->ultralytics) (1.4.5)\r\n",
      "Requirement already satisfied: packaging>=20.0 in /opt/conda/lib/python3.10/site-packages (from matplotlib>=3.3.0->ultralytics) (21.3)\r\n",
      "Requirement already satisfied: pyparsing>=2.3.1 in /opt/conda/lib/python3.10/site-packages (from matplotlib>=3.3.0->ultralytics) (3.1.2)\r\n",
      "Requirement already satisfied: python-dateutil>=2.7 in /opt/conda/lib/python3.10/site-packages (from matplotlib>=3.3.0->ultralytics) (2.9.0.post0)\r\n",
      "Requirement already satisfied: pytz>=2020.1 in /opt/conda/lib/python3.10/site-packages (from pandas>=1.1.4->ultralytics) (2024.1)\r\n",
      "Requirement already satisfied: tzdata>=2022.7 in /opt/conda/lib/python3.10/site-packages (from pandas>=1.1.4->ultralytics) (2024.1)\r\n",
      "Requirement already satisfied: charset-normalizer<4,>=2 in /opt/conda/lib/python3.10/site-packages (from requests>=2.23.0->ultralytics) (3.3.2)\r\n",
      "Requirement already satisfied: idna<4,>=2.5 in /opt/conda/lib/python3.10/site-packages (from requests>=2.23.0->ultralytics) (3.7)\r\n",
      "Requirement already satisfied: urllib3<3,>=1.21.1 in /opt/conda/lib/python3.10/site-packages (from requests>=2.23.0->ultralytics) (1.26.18)\r\n",
      "Requirement already satisfied: certifi>=2017.4.17 in /opt/conda/lib/python3.10/site-packages (from requests>=2.23.0->ultralytics) (2024.6.2)\r\n",
      "Requirement already satisfied: filelock in /opt/conda/lib/python3.10/site-packages (from torch>=1.8.0->ultralytics) (3.15.1)\r\n",
      "Requirement already satisfied: typing-extensions>=4.8.0 in /opt/conda/lib/python3.10/site-packages (from torch>=1.8.0->ultralytics) (4.12.2)\r\n",
      "Requirement already satisfied: sympy in /opt/conda/lib/python3.10/site-packages (from torch>=1.8.0->ultralytics) (1.13.1)\r\n",
      "Requirement already satisfied: networkx in /opt/conda/lib/python3.10/site-packages (from torch>=1.8.0->ultralytics) (3.3)\r\n",
      "Requirement already satisfied: jinja2 in /opt/conda/lib/python3.10/site-packages (from torch>=1.8.0->ultralytics) (3.1.4)\r\n",
      "Requirement already satisfied: fsspec in /opt/conda/lib/python3.10/site-packages (from torch>=1.8.0->ultralytics) (2024.9.0)\r\n",
      "Requirement already satisfied: six>=1.5 in /opt/conda/lib/python3.10/site-packages (from python-dateutil>=2.7->matplotlib>=3.3.0->ultralytics) (1.16.0)\r\n",
      "Requirement already satisfied: MarkupSafe>=2.0 in /opt/conda/lib/python3.10/site-packages (from jinja2->torch>=1.8.0->ultralytics) (2.1.5)\r\n",
      "Requirement already satisfied: mpmath<1.4,>=1.1.0 in /opt/conda/lib/python3.10/site-packages (from sympy->torch>=1.8.0->ultralytics) (1.3.0)\r\n",
      "Downloading ultralytics-8.3.50-py3-none-any.whl (898 kB)\r\n",
      "\u001b[2K   \u001b[90m━━━━━━━━━━━━━━━━━━━━━━━━━━━━━━━━━━━━━━━━\u001b[0m \u001b[32m899.0/899.0 kB\u001b[0m \u001b[31m18.4 MB/s\u001b[0m eta \u001b[36m0:00:00\u001b[0m\r\n",
      "\u001b[?25hDownloading ultralytics_thop-2.0.13-py3-none-any.whl (26 kB)\r\n",
      "Installing collected packages: ultralytics-thop, ultralytics\r\n",
      "Successfully installed ultralytics-8.3.50 ultralytics-thop-2.0.13\r\n"
     ]
    }
   ],
   "source": [
    "!pip install ultralytics"
   ]
  },
  {
   "cell_type": "code",
   "execution_count": 4,
   "id": "ff55326f",
   "metadata": {
    "execution": {
     "iopub.execute_input": "2024-12-17T07:09:02.249626Z",
     "iopub.status.busy": "2024-12-17T07:09:02.249164Z",
     "iopub.status.idle": "2024-12-17T07:09:02.255214Z",
     "shell.execute_reply": "2024-12-17T07:09:02.254101Z"
    },
    "papermill": {
     "duration": 0.017021,
     "end_time": "2024-12-17T07:09:02.257453",
     "exception": false,
     "start_time": "2024-12-17T07:09:02.240432",
     "status": "completed"
    },
    "tags": []
   },
   "outputs": [],
   "source": [
    "os.environ['WANDB_MODE'] = 'disabled'"
   ]
  },
  {
   "cell_type": "markdown",
   "id": "a54c406c",
   "metadata": {
    "papermill": {
     "duration": 0.006887,
     "end_time": "2024-12-17T07:09:02.271569",
     "exception": false,
     "start_time": "2024-12-17T07:09:02.264682",
     "status": "completed"
    },
    "tags": []
   },
   "source": [
    "# **DATA ANALYSIS**"
   ]
  },
  {
   "cell_type": "code",
   "execution_count": 5,
   "id": "5ffa0bff",
   "metadata": {
    "execution": {
     "iopub.execute_input": "2024-12-17T07:09:02.287492Z",
     "iopub.status.busy": "2024-12-17T07:09:02.287029Z",
     "iopub.status.idle": "2024-12-17T07:09:02.292878Z",
     "shell.execute_reply": "2024-12-17T07:09:02.291535Z"
    },
    "papermill": {
     "duration": 0.017412,
     "end_time": "2024-12-17T07:09:02.295920",
     "exception": false,
     "start_time": "2024-12-17T07:09:02.278508",
     "status": "completed"
    },
    "tags": []
   },
   "outputs": [],
   "source": [
    "for dirname, _, _ in os.walk('/kaggle/input/kaggle/input/cifake-real-and-ai-generated-synthetic-images'):\n",
    "    print(dirname)"
   ]
  },
  {
   "cell_type": "code",
   "execution_count": 6,
   "id": "d2616ea8",
   "metadata": {
    "execution": {
     "iopub.execute_input": "2024-12-17T07:09:02.312026Z",
     "iopub.status.busy": "2024-12-17T07:09:02.311519Z",
     "iopub.status.idle": "2024-12-17T07:09:02.327695Z",
     "shell.execute_reply": "2024-12-17T07:09:02.326352Z"
    },
    "papermill": {
     "duration": 0.027072,
     "end_time": "2024-12-17T07:09:02.330208",
     "exception": false,
     "start_time": "2024-12-17T07:09:02.303136",
     "status": "completed"
    },
    "tags": []
   },
   "outputs": [
    {
     "name": "stdout",
     "output_type": "stream",
     "text": [
      "['/kaggle/input/cifake-real-and-ai-generated-synthetic-images/test/FAKE', '/kaggle/input/cifake-real-and-ai-generated-synthetic-images/test/REAL', '/kaggle/input/cifake-real-and-ai-generated-synthetic-images/train/FAKE', '/kaggle/input/cifake-real-and-ai-generated-synthetic-images/train/REAL']\n"
     ]
    }
   ],
   "source": [
    "p_paths = glob('/kaggle/input/cifake-real-and-ai-generated-synthetic-images/*')\n",
    "d_paths = []\n",
    "\n",
    "for p_path in p_paths:\n",
    "    d_paths.extend(glob('{}/*'.format(p_path)))\n",
    "print(d_paths)"
   ]
  },
  {
   "cell_type": "code",
   "execution_count": 7,
   "id": "75066315",
   "metadata": {
    "execution": {
     "iopub.execute_input": "2024-12-17T07:09:02.346438Z",
     "iopub.status.busy": "2024-12-17T07:09:02.345980Z",
     "iopub.status.idle": "2024-12-17T07:09:03.303300Z",
     "shell.execute_reply": "2024-12-17T07:09:03.301839Z"
    },
    "papermill": {
     "duration": 0.968177,
     "end_time": "2024-12-17T07:09:03.305770",
     "exception": false,
     "start_time": "2024-12-17T07:09:02.337593",
     "status": "completed"
    },
    "tags": []
   },
   "outputs": [
    {
     "name": "stdout",
     "output_type": "stream",
     "text": [
      "120000\n"
     ]
    }
   ],
   "source": [
    "i_paths = []\n",
    "\n",
    "for d_path in d_paths:\n",
    "    i_paths.extend(glob('{}/*'.format(d_path)))\n",
    "\n",
    "print(len(i_paths))"
   ]
  },
  {
   "cell_type": "code",
   "execution_count": 8,
   "id": "4543a114",
   "metadata": {
    "execution": {
     "iopub.execute_input": "2024-12-17T07:09:03.321912Z",
     "iopub.status.busy": "2024-12-17T07:09:03.321425Z",
     "iopub.status.idle": "2024-12-17T07:09:04.037683Z",
     "shell.execute_reply": "2024-12-17T07:09:04.036384Z"
    },
    "papermill": {
     "duration": 0.727144,
     "end_time": "2024-12-17T07:09:04.040187",
     "exception": false,
     "start_time": "2024-12-17T07:09:03.313043",
     "status": "completed"
    },
    "tags": []
   },
   "outputs": [
    {
     "data": {
      "text/plain": [
       "{'jpg': 120000}"
      ]
     },
     "execution_count": 8,
     "metadata": {},
     "output_type": "execute_result"
    }
   ],
   "source": [
    "from wolta.visual_tools import get_extensions\n",
    "\n",
    "get_extensions(i_paths)"
   ]
  },
  {
   "cell_type": "code",
   "execution_count": 9,
   "id": "374f9b49",
   "metadata": {
    "execution": {
     "iopub.execute_input": "2024-12-17T07:09:04.056719Z",
     "iopub.status.busy": "2024-12-17T07:09:04.056289Z",
     "iopub.status.idle": "2024-12-17T07:22:20.631303Z",
     "shell.execute_reply": "2024-12-17T07:22:20.630139Z"
    },
    "papermill": {
     "duration": 796.593477,
     "end_time": "2024-12-17T07:22:20.641176",
     "exception": false,
     "start_time": "2024-12-17T07:09:04.047699",
     "status": "completed"
    },
    "tags": []
   },
   "outputs": [
    {
     "data": {
      "text/plain": [
       "True"
      ]
     },
     "execution_count": 9,
     "metadata": {},
     "output_type": "execute_result"
    }
   ],
   "source": [
    "from wolta.visual_tools import dataset_size_same\n",
    "\n",
    "dataset_size_same(i_paths)"
   ]
  },
  {
   "cell_type": "code",
   "execution_count": 10,
   "id": "60a8c11c",
   "metadata": {
    "execution": {
     "iopub.execute_input": "2024-12-17T07:22:20.657969Z",
     "iopub.status.busy": "2024-12-17T07:22:20.657554Z",
     "iopub.status.idle": "2024-12-17T07:22:20.666430Z",
     "shell.execute_reply": "2024-12-17T07:22:20.664985Z"
    },
    "papermill": {
     "duration": 0.020073,
     "end_time": "2024-12-17T07:22:20.668737",
     "exception": false,
     "start_time": "2024-12-17T07:22:20.648664",
     "status": "completed"
    },
    "tags": []
   },
   "outputs": [
    {
     "name": "stdout",
     "output_type": "stream",
     "text": [
      "Width: 32\n",
      "Height: 32\n",
      "Ratio: 1.0\n"
     ]
    }
   ],
   "source": [
    "temp_img = cv2.imread(i_paths[0])\n",
    "ratio = temp_img.shape[1] / temp_img.shape[0]\n",
    "\n",
    "print('Width: {}'.format(temp_img.shape[1]))\n",
    "print('Height: {}'.format(temp_img.shape[0]))\n",
    "print('Ratio: {}'.format(ratio))"
   ]
  },
  {
   "cell_type": "markdown",
   "id": "1016d5ef",
   "metadata": {
    "papermill": {
     "duration": 0.007065,
     "end_time": "2024-12-17T07:22:20.683550",
     "exception": false,
     "start_time": "2024-12-17T07:22:20.676485",
     "status": "completed"
    },
    "tags": []
   },
   "source": [
    "# **IMAGE STACKING AND SPLITTING**"
   ]
  },
  {
   "cell_type": "code",
   "execution_count": 11,
   "id": "5779576e",
   "metadata": {
    "execution": {
     "iopub.execute_input": "2024-12-17T07:22:20.700351Z",
     "iopub.status.busy": "2024-12-17T07:22:20.699896Z",
     "iopub.status.idle": "2024-12-17T07:25:46.110970Z",
     "shell.execute_reply": "2024-12-17T07:25:46.109455Z"
    },
    "papermill": {
     "duration": 205.423071,
     "end_time": "2024-12-17T07:25:46.113937",
     "exception": false,
     "start_time": "2024-12-17T07:22:20.690866",
     "status": "completed"
    },
    "tags": []
   },
   "outputs": [],
   "source": [
    "os.makedirs('/kaggle/working/raw')\n",
    "\n",
    "\n",
    "for d_path in d_paths:\n",
    "    current_dir = Path(d_path).name\n",
    "    current_path = '/kaggle/working/raw/{}'.format(current_dir) \n",
    "    os.makedirs(current_path, exist_ok=True)\n",
    "\n",
    "    i_paths = glob('{}/*'.format(d_path))\n",
    "\n",
    "    for i_path in i_paths:\n",
    "        shutil.copy(i_path, current_path)\n"
   ]
  },
  {
   "cell_type": "code",
   "execution_count": 12,
   "id": "962efac5",
   "metadata": {
    "execution": {
     "iopub.execute_input": "2024-12-17T07:25:46.133738Z",
     "iopub.status.busy": "2024-12-17T07:25:46.132448Z",
     "iopub.status.idle": "2024-12-17T07:26:00.150912Z",
     "shell.execute_reply": "2024-12-17T07:26:00.149457Z"
    },
    "papermill": {
     "duration": 14.031682,
     "end_time": "2024-12-17T07:26:00.153759",
     "exception": false,
     "start_time": "2024-12-17T07:25:46.122077",
     "status": "completed"
    },
    "tags": []
   },
   "outputs": [],
   "source": [
    "from wolta.visual_tools import dir_split\n",
    "\n",
    "dir_split('/kaggle/working/raw', '/kaggle/working/data', test_size=0.2, val_size=0.2)"
   ]
  },
  {
   "cell_type": "code",
   "execution_count": 13,
   "id": "b12ff82b",
   "metadata": {
    "execution": {
     "iopub.execute_input": "2024-12-17T07:26:00.171659Z",
     "iopub.status.busy": "2024-12-17T07:26:00.171262Z",
     "iopub.status.idle": "2024-12-17T07:26:06.557367Z",
     "shell.execute_reply": "2024-12-17T07:26:06.556096Z"
    },
    "papermill": {
     "duration": 6.398481,
     "end_time": "2024-12-17T07:26:06.560088",
     "exception": false,
     "start_time": "2024-12-17T07:26:00.161607",
     "status": "completed"
    },
    "tags": []
   },
   "outputs": [
    {
     "name": "stdout",
     "output_type": "stream",
     "text": [
      "Processing test/REAL...\n"
     ]
    },
    {
     "name": "stderr",
     "output_type": "stream",
     "text": [
      "100%|██████████| 10000/10000 [00:02<00:00, 3504.61it/s]\n"
     ]
    },
    {
     "name": "stdout",
     "output_type": "stream",
     "text": [
      "Processing test/FAKE...\n"
     ]
    },
    {
     "name": "stderr",
     "output_type": "stream",
     "text": [
      "100%|██████████| 12000/12000 [00:03<00:00, 3440.76it/s]\n"
     ]
    }
   ],
   "source": [
    "from tqdm import tqdm\n",
    "\n",
    "def add_gaussian_noise(image, mean=0, std=1):\n",
    "    \"\"\"Add Gaussian noise to an image.\"\"\"\n",
    "    noise = np.random.normal(mean, std, image.shape).astype(np.uint8)\n",
    "    noisy_image = cv2.add(image, noise)\n",
    "    return noisy_image\n",
    "\n",
    "def process_and_save_images(input_path, output_path):\n",
    "    \"\"\"Process images, add noise, and save to the output path.\"\"\"\n",
    "    if not os.path.exists(output_path):\n",
    "        os.makedirs(output_path)\n",
    "    image_paths = os.listdir(input_path)\n",
    "    for img_name in tqdm(image_paths):\n",
    "        img_path = os.path.join(input_path, img_name)\n",
    "        if os.path.isfile(img_path):\n",
    "            # Read image\n",
    "            image = cv2.imread(img_path)\n",
    "            if image is None:\n",
    "                continue\n",
    "            # Add Gaussian noise\n",
    "            noisy_image = add_gaussian_noise(image)\n",
    "            # Save the noisy image to the output folder\n",
    "            img_name = img_name.split('.')[0] + '_1.' + img_name.split('.')[1]\n",
    "            output_img_path = os.path.join(output_path, img_name)\n",
    "            cv2.imwrite(output_img_path, noisy_image)\n",
    "base_dir = \"/kaggle/working/data\"  # Replace with the root path of your dataset\n",
    "subsets = [ \"test\"]\n",
    "categories = [\"REAL\", \"FAKE\"]\n",
    "\n",
    "for subset in subsets:\n",
    "    real_path = os.path.join(base_dir, subset, \"REAL\")\n",
    "    fake_path = os.path.join(base_dir, subset, \"FAKE\")\n",
    "\n",
    "    print(f\"Processing {subset}/REAL...\")\n",
    "    process_and_save_images(real_path, real_path)\n",
    "    print(f\"Processing {subset}/FAKE...\")\n",
    "    process_and_save_images(fake_path, fake_path)"
   ]
  },
  {
   "cell_type": "code",
   "execution_count": 14,
   "id": "12dc7729",
   "metadata": {
    "execution": {
     "iopub.execute_input": "2024-12-17T07:26:06.585773Z",
     "iopub.status.busy": "2024-12-17T07:26:06.585351Z",
     "iopub.status.idle": "2024-12-17T07:26:06.897392Z",
     "shell.execute_reply": "2024-12-17T07:26:06.895849Z"
    },
    "papermill": {
     "duration": 0.327889,
     "end_time": "2024-12-17T07:26:06.899925",
     "exception": false,
     "start_time": "2024-12-17T07:26:06.572036",
     "status": "completed"
    },
    "tags": []
   },
   "outputs": [
    {
     "data": {
      "text/plain": [
       "{'FAKE': 72000, 'REAL': 60000}"
      ]
     },
     "execution_count": 14,
     "metadata": {},
     "output_type": "execute_result"
    }
   ],
   "source": [
    "from wolta.visual_tools import cls_img_counter\n",
    "\n",
    "cls_img_counter('/kaggle/working/data')"
   ]
  },
  {
   "cell_type": "markdown",
   "id": "9f430974",
   "metadata": {
    "papermill": {
     "duration": 0.011889,
     "end_time": "2024-12-17T07:26:06.924320",
     "exception": false,
     "start_time": "2024-12-17T07:26:06.912431",
     "status": "completed"
    },
    "tags": []
   },
   "source": [
    "# **CUSTOM YOLO**"
   ]
  },
  {
   "cell_type": "code",
   "execution_count": 15,
   "id": "7da3a5df",
   "metadata": {
    "execution": {
     "iopub.execute_input": "2024-12-17T07:26:06.949204Z",
     "iopub.status.busy": "2024-12-17T07:26:06.948774Z",
     "iopub.status.idle": "2024-12-17T07:26:12.567354Z",
     "shell.execute_reply": "2024-12-17T07:26:12.565946Z"
    },
    "papermill": {
     "duration": 5.633621,
     "end_time": "2024-12-17T07:26:12.569654",
     "exception": false,
     "start_time": "2024-12-17T07:26:06.936033",
     "status": "completed"
    },
    "tags": []
   },
   "outputs": [
    {
     "name": "stdout",
     "output_type": "stream",
     "text": [
      "Cloning into 'ultralytics'...\r\n",
      "remote: Enumerating objects: 45497, done.\u001b[K\r\n",
      "remote: Counting objects: 100% (471/471), done.\u001b[K\r\n",
      "remote: Compressing objects: 100% (281/281), done.\u001b[K\r\n",
      "remote: Total 45497 (delta 386), reused 190 (delta 190), pack-reused 45026 (from 5)\u001b[K\r\n",
      "Receiving objects: 100% (45497/45497), 38.86 MiB | 28.92 MiB/s, done.\r\n",
      "Resolving deltas: 100% (33733/33733), done.\r\n"
     ]
    }
   ],
   "source": [
    "!git clone https://github.com/ultralytics/ultralytics.git"
   ]
  },
  {
   "cell_type": "code",
   "execution_count": 16,
   "id": "b1dedb78",
   "metadata": {
    "execution": {
     "iopub.execute_input": "2024-12-17T07:26:12.599676Z",
     "iopub.status.busy": "2024-12-17T07:26:12.599260Z",
     "iopub.status.idle": "2024-12-17T07:26:12.607706Z",
     "shell.execute_reply": "2024-12-17T07:26:12.606460Z"
    },
    "papermill": {
     "duration": 0.026546,
     "end_time": "2024-12-17T07:26:12.610172",
     "exception": false,
     "start_time": "2024-12-17T07:26:12.583626",
     "status": "completed"
    },
    "tags": []
   },
   "outputs": [
    {
     "name": "stdout",
     "output_type": "stream",
     "text": [
      "/kaggle/working/ultralytics\n"
     ]
    }
   ],
   "source": [
    "%cd ultralytics"
   ]
  },
  {
   "cell_type": "code",
   "execution_count": 17,
   "id": "7ce28a1e",
   "metadata": {
    "execution": {
     "iopub.execute_input": "2024-12-17T07:26:12.639600Z",
     "iopub.status.busy": "2024-12-17T07:26:12.639222Z",
     "iopub.status.idle": "2024-12-17T07:26:12.646488Z",
     "shell.execute_reply": "2024-12-17T07:26:12.645033Z"
    },
    "papermill": {
     "duration": 0.0244,
     "end_time": "2024-12-17T07:26:12.648673",
     "exception": false,
     "start_time": "2024-12-17T07:26:12.624273",
     "status": "completed"
    },
    "tags": []
   },
   "outputs": [
    {
     "name": "stdout",
     "output_type": "stream",
     "text": [
      "/kaggle/working/ultralytics/ultralytics\n"
     ]
    }
   ],
   "source": [
    "%cd ultralytics"
   ]
  },
  {
   "cell_type": "code",
   "execution_count": 18,
   "id": "14d676bd",
   "metadata": {
    "execution": {
     "iopub.execute_input": "2024-12-17T07:26:12.679203Z",
     "iopub.status.busy": "2024-12-17T07:26:12.678723Z",
     "iopub.status.idle": "2024-12-17T07:26:12.706067Z",
     "shell.execute_reply": "2024-12-17T07:26:12.704524Z"
    },
    "papermill": {
     "duration": 0.046003,
     "end_time": "2024-12-17T07:26:12.708551",
     "exception": false,
     "start_time": "2024-12-17T07:26:12.662548",
     "status": "completed"
    },
    "tags": []
   },
   "outputs": [],
   "source": [
    "import yaml"
   ]
  },
  {
   "cell_type": "code",
   "execution_count": 19,
   "id": "954b970c",
   "metadata": {
    "execution": {
     "iopub.execute_input": "2024-12-17T07:26:12.738554Z",
     "iopub.status.busy": "2024-12-17T07:26:12.738099Z",
     "iopub.status.idle": "2024-12-17T07:26:12.743363Z",
     "shell.execute_reply": "2024-12-17T07:26:12.742107Z"
    },
    "papermill": {
     "duration": 0.023281,
     "end_time": "2024-12-17T07:26:12.745844",
     "exception": false,
     "start_time": "2024-12-17T07:26:12.722563",
     "status": "completed"
    },
    "tags": []
   },
   "outputs": [],
   "source": [
    "existing_yaml_path = \"cfg/models/11/yolo11-cls.yaml\"  # Replace with your YAML file name\n",
    "updated_yaml_path = \"cfg/models/11/yolo11-dropout.yaml\"  # Output file with dropout added"
   ]
  },
  {
   "cell_type": "code",
   "execution_count": 20,
   "id": "329f0216",
   "metadata": {
    "execution": {
     "iopub.execute_input": "2024-12-17T07:26:12.776213Z",
     "iopub.status.busy": "2024-12-17T07:26:12.775756Z",
     "iopub.status.idle": "2024-12-17T07:26:12.794953Z",
     "shell.execute_reply": "2024-12-17T07:26:12.793652Z"
    },
    "papermill": {
     "duration": 0.037397,
     "end_time": "2024-12-17T07:26:12.797307",
     "exception": false,
     "start_time": "2024-12-17T07:26:12.759910",
     "status": "completed"
    },
    "tags": []
   },
   "outputs": [
    {
     "data": {
      "text/plain": [
       "{'nc': 80,\n",
       " 'scales': {'n': [0.5, 0.25, 1024],\n",
       "  's': [0.5, 0.5, 1024],\n",
       "  'm': [0.5, 1.0, 512],\n",
       "  'l': [1.0, 1.0, 512],\n",
       "  'x': [1.0, 1.5, 512]},\n",
       " 'backbone': [[-1, 1, 'Conv', [64, 3, 2]],\n",
       "  [-1, 1, 'Conv', [128, 3, 2]],\n",
       "  [-1, 2, 'C3k2', [256, False, 0.25]],\n",
       "  [-1, 1, 'Conv', [256, 3, 2]],\n",
       "  [-1, 2, 'C3k2', [512, False, 0.25]],\n",
       "  [-1, 1, 'Conv', [512, 3, 2]],\n",
       "  [-1, 2, 'C3k2', [512, True]],\n",
       "  [-1, 1, 'Conv', [1024, 3, 2]],\n",
       "  [-1, 2, 'C3k2', [1024, True]],\n",
       "  [-1, 2, 'C2PSA', [1024]]],\n",
       " 'head': [[-1, 1, 'Classify', ['nc']]]}"
      ]
     },
     "execution_count": 20,
     "metadata": {},
     "output_type": "execute_result"
    }
   ],
   "source": [
    "with open(existing_yaml_path, 'r') as yaml_file:\n",
    "    model_config = yaml.safe_load(yaml_file)\n",
    "\n",
    "model_config"
   ]
  },
  {
   "cell_type": "code",
   "execution_count": 21,
   "id": "a5140793",
   "metadata": {
    "execution": {
     "iopub.execute_input": "2024-12-17T07:26:12.827145Z",
     "iopub.status.busy": "2024-12-17T07:26:12.826730Z",
     "iopub.status.idle": "2024-12-17T07:26:12.833713Z",
     "shell.execute_reply": "2024-12-17T07:26:12.832303Z"
    },
    "papermill": {
     "duration": 0.024919,
     "end_time": "2024-12-17T07:26:12.836304",
     "exception": false,
     "start_time": "2024-12-17T07:26:12.811385",
     "status": "completed"
    },
    "tags": []
   },
   "outputs": [],
   "source": [
    "dropout_rate = 0.1  # Define the dropout rate\n",
    "\n",
    "# Modify the backbone with Dropout layers\n",
    "updated_backbone = []\n",
    "for layer in model_config['backbone']:\n",
    "    updated_backbone.append(layer)  # Keep original layer\n",
    "    if layer[2] == \"Conv\":  # Add Dropout after Conv layers\n",
    "        updated_backbone.append([-1, 1, \"Dropout\", [dropout_rate]])\n",
    "\n",
    "# Modify the head with Dropout layers\n",
    "updated_head = []\n",
    "for layer in model_config['head']:\n",
    "    updated_head.append(layer)  # Keep original layer\n",
    "    if layer[2] == \"Conv\":  # Add Dropout after Conv layers\n",
    "        updated_head.append([-1, 1, \"Dropout\", [dropout_rate]])"
   ]
  },
  {
   "cell_type": "code",
   "execution_count": 22,
   "id": "26c20e36",
   "metadata": {
    "execution": {
     "iopub.execute_input": "2024-12-17T07:26:12.866572Z",
     "iopub.status.busy": "2024-12-17T07:26:12.866180Z",
     "iopub.status.idle": "2024-12-17T07:26:12.872223Z",
     "shell.execute_reply": "2024-12-17T07:26:12.870870Z"
    },
    "papermill": {
     "duration": 0.023995,
     "end_time": "2024-12-17T07:26:12.874550",
     "exception": false,
     "start_time": "2024-12-17T07:26:12.850555",
     "status": "completed"
    },
    "tags": []
   },
   "outputs": [],
   "source": [
    "# Update the model configuration\n",
    "model_config['backbone'] = updated_backbone\n",
    "model_config['head'] = updated_head"
   ]
  },
  {
   "cell_type": "code",
   "execution_count": 23,
   "id": "002edb3a",
   "metadata": {
    "execution": {
     "iopub.execute_input": "2024-12-17T07:26:12.904926Z",
     "iopub.status.busy": "2024-12-17T07:26:12.904519Z",
     "iopub.status.idle": "2024-12-17T07:26:12.913580Z",
     "shell.execute_reply": "2024-12-17T07:26:12.912468Z"
    },
    "papermill": {
     "duration": 0.027437,
     "end_time": "2024-12-17T07:26:12.916131",
     "exception": false,
     "start_time": "2024-12-17T07:26:12.888694",
     "status": "completed"
    },
    "tags": []
   },
   "outputs": [
    {
     "data": {
      "text/plain": [
       "{'nc': 80,\n",
       " 'scales': {'n': [0.5, 0.25, 1024],\n",
       "  's': [0.5, 0.5, 1024],\n",
       "  'm': [0.5, 1.0, 512],\n",
       "  'l': [1.0, 1.0, 512],\n",
       "  'x': [1.0, 1.5, 512]},\n",
       " 'backbone': [[-1, 1, 'Conv', [64, 3, 2]],\n",
       "  [-1, 1, 'Dropout', [0.1]],\n",
       "  [-1, 1, 'Conv', [128, 3, 2]],\n",
       "  [-1, 1, 'Dropout', [0.1]],\n",
       "  [-1, 2, 'C3k2', [256, False, 0.25]],\n",
       "  [-1, 1, 'Conv', [256, 3, 2]],\n",
       "  [-1, 1, 'Dropout', [0.1]],\n",
       "  [-1, 2, 'C3k2', [512, False, 0.25]],\n",
       "  [-1, 1, 'Conv', [512, 3, 2]],\n",
       "  [-1, 1, 'Dropout', [0.1]],\n",
       "  [-1, 2, 'C3k2', [512, True]],\n",
       "  [-1, 1, 'Conv', [1024, 3, 2]],\n",
       "  [-1, 1, 'Dropout', [0.1]],\n",
       "  [-1, 2, 'C3k2', [1024, True]],\n",
       "  [-1, 2, 'C2PSA', [1024]]],\n",
       " 'head': [[-1, 1, 'Classify', ['nc']]]}"
      ]
     },
     "execution_count": 23,
     "metadata": {},
     "output_type": "execute_result"
    }
   ],
   "source": [
    "model_config"
   ]
  },
  {
   "cell_type": "code",
   "execution_count": 24,
   "id": "50a4a699",
   "metadata": {
    "execution": {
     "iopub.execute_input": "2024-12-17T07:26:12.946964Z",
     "iopub.status.busy": "2024-12-17T07:26:12.946505Z",
     "iopub.status.idle": "2024-12-17T07:26:12.958071Z",
     "shell.execute_reply": "2024-12-17T07:26:12.956857Z"
    },
    "papermill": {
     "duration": 0.029792,
     "end_time": "2024-12-17T07:26:12.960719",
     "exception": false,
     "start_time": "2024-12-17T07:26:12.930927",
     "status": "completed"
    },
    "tags": []
   },
   "outputs": [],
   "source": [
    "with open(existing_yaml_path, 'w') as yaml_file:\n",
    "    yaml.dump(model_config, yaml_file, default_flow_style=False)\n"
   ]
  },
  {
   "cell_type": "code",
   "execution_count": 25,
   "id": "03a417cc",
   "metadata": {
    "execution": {
     "iopub.execute_input": "2024-12-17T07:26:12.991946Z",
     "iopub.status.busy": "2024-12-17T07:26:12.991458Z",
     "iopub.status.idle": "2024-12-17T07:26:12.997206Z",
     "shell.execute_reply": "2024-12-17T07:26:12.996058Z"
    },
    "papermill": {
     "duration": 0.0238,
     "end_time": "2024-12-17T07:26:12.999459",
     "exception": false,
     "start_time": "2024-12-17T07:26:12.975659",
     "status": "completed"
    },
    "tags": []
   },
   "outputs": [],
   "source": [
    "custom_layers_code = \"\"\"\n",
    "import torch\n",
    "import torch.nn as nn\n",
    "\n",
    "class Dropout(nn.Module):\n",
    "    def __init__(self, p=0.5):\n",
    "        super().__init__()\n",
    "        self.dropout = nn.Dropout(p)\n",
    "\n",
    "    def forward(self, x):\n",
    "        return self.dropout(x)\n",
    "\"\"\""
   ]
  },
  {
   "cell_type": "code",
   "execution_count": 26,
   "id": "21266592",
   "metadata": {
    "execution": {
     "iopub.execute_input": "2024-12-17T07:26:13.030501Z",
     "iopub.status.busy": "2024-12-17T07:26:13.030095Z",
     "iopub.status.idle": "2024-12-17T07:26:13.036498Z",
     "shell.execute_reply": "2024-12-17T07:26:13.035328Z"
    },
    "papermill": {
     "duration": 0.024927,
     "end_time": "2024-12-17T07:26:13.038835",
     "exception": false,
     "start_time": "2024-12-17T07:26:13.013908",
     "status": "completed"
    },
    "tags": []
   },
   "outputs": [],
   "source": [
    "custom_layers_path = \"nn/modules/custom_layers.py\"\n",
    "with open(custom_layers_path, 'w') as custom_file:\n",
    "    custom_file.write(custom_layers_code)"
   ]
  },
  {
   "cell_type": "code",
   "execution_count": 27,
   "id": "ea11eda7",
   "metadata": {
    "execution": {
     "iopub.execute_input": "2024-12-17T07:26:13.070323Z",
     "iopub.status.busy": "2024-12-17T07:26:13.069924Z",
     "iopub.status.idle": "2024-12-17T07:26:18.780908Z",
     "shell.execute_reply": "2024-12-17T07:26:18.779571Z"
    },
    "papermill": {
     "duration": 5.729888,
     "end_time": "2024-12-17T07:26:18.783332",
     "exception": false,
     "start_time": "2024-12-17T07:26:13.053444",
     "status": "completed"
    },
    "tags": []
   },
   "outputs": [
    {
     "name": "stdout",
     "output_type": "stream",
     "text": [
      "Creating new Ultralytics Settings v0.0.6 file ✅ \n",
      "View Ultralytics Settings with 'yolo settings' or at '/root/.config/Ultralytics/settings.json'\n",
      "Update Settings with 'yolo settings key=value', i.e. 'yolo settings runs_dir=path/to/dir'. For help see https://docs.ultralytics.com/quickstart/#ultralytics-settings.\n",
      "YOLO11n-cls summary: 151 layers, 1,633,584 parameters, 1,633,584 gradients, 3.3 GFLOPs\n"
     ]
    }
   ],
   "source": [
    "from ultralytics import YOLO\n",
    "\n",
    "# Load the model with the updated YAML file\n",
    "model = YOLO(model='yolo11n-cls.yaml')"
   ]
  },
  {
   "cell_type": "code",
   "execution_count": 28,
   "id": "0746bed5",
   "metadata": {
    "execution": {
     "iopub.execute_input": "2024-12-17T07:26:18.814710Z",
     "iopub.status.busy": "2024-12-17T07:26:18.813977Z",
     "iopub.status.idle": "2024-12-17T08:05:11.321632Z",
     "shell.execute_reply": "2024-12-17T08:05:11.320470Z"
    },
    "papermill": {
     "duration": 2332.526484,
     "end_time": "2024-12-17T08:05:11.324318",
     "exception": false,
     "start_time": "2024-12-17T07:26:18.797834",
     "status": "completed"
    },
    "tags": []
   },
   "outputs": [
    {
     "name": "stdout",
     "output_type": "stream",
     "text": [
      "Ultralytics 8.3.50 🚀 Python-3.10.14 torch-2.4.0+cpu CPU (Intel Xeon 2.20GHz)\n",
      "\u001b[34m\u001b[1mengine/trainer: \u001b[0mtask=classify, mode=train, model=yolo11n-cls.yaml, data=/kaggle/working/data, epochs=5, time=None, patience=100, batch=16, imgsz=32, save=True, save_period=-1, cache=False, device=None, workers=8, project=None, name=train, exist_ok=False, pretrained=True, optimizer=auto, verbose=True, seed=0, deterministic=True, single_cls=False, rect=False, cos_lr=False, close_mosaic=10, resume=False, amp=True, fraction=1.0, profile=False, freeze=None, multi_scale=False, overlap_mask=True, mask_ratio=4, dropout=0.0, val=True, split=val, save_json=False, save_hybrid=False, conf=None, iou=0.7, max_det=300, half=False, dnn=False, plots=True, source=None, vid_stride=1, stream_buffer=False, visualize=False, augment=False, agnostic_nms=False, classes=None, retina_masks=False, embed=None, show=False, save_frames=False, save_txt=False, save_conf=False, save_crop=False, show_labels=True, show_conf=True, show_boxes=True, line_width=None, format=torchscript, keras=False, optimize=False, int8=False, dynamic=False, simplify=True, opset=None, workspace=None, nms=False, lr0=0.01, lrf=0.01, momentum=0.937, weight_decay=0.0005, warmup_epochs=3.0, warmup_momentum=0.8, warmup_bias_lr=0.1, box=7.5, cls=0.5, dfl=1.5, pose=12.0, kobj=1.0, nbs=64, hsv_h=0.015, hsv_s=0.7, hsv_v=0.4, degrees=0.0, translate=0.1, scale=0.5, shear=0.0, perspective=0.0, flipud=0.0, fliplr=0.5, bgr=0.0, mosaic=1.0, mixup=0.0, copy_paste=0.0, copy_paste_mode=flip, auto_augment=randaugment, erasing=0.4, crop_fraction=1.0, cfg=None, tracker=botsort.yaml, save_dir=runs/classify/train\n",
      "\u001b[34m\u001b[1mtrain:\u001b[0m /kaggle/working/data/train... found 66000 images in 2 classes ✅ \n",
      "\u001b[34m\u001b[1mval:\u001b[0m /kaggle/working/data/val... found 22000 images in 2 classes ✅ \n",
      "\u001b[34m\u001b[1mtest:\u001b[0m /kaggle/working/data/test... found 44000 images in 2 classes ✅ \n",
      "Overriding model.yaml nc=80 with nc=2\n",
      "\n",
      "                   from  n    params  module                                       arguments                     \n",
      "  0                  -1  1       464  ultralytics.nn.modules.conv.Conv             [3, 16, 3, 2]                 \n",
      "  1                  -1  1      4672  ultralytics.nn.modules.conv.Conv             [16, 32, 3, 2]                \n",
      "  2                  -1  1      6640  ultralytics.nn.modules.block.C3k2            [32, 64, 1, False, 0.25]      \n",
      "  3                  -1  1     36992  ultralytics.nn.modules.conv.Conv             [64, 64, 3, 2]                \n",
      "  4                  -1  1     26080  ultralytics.nn.modules.block.C3k2            [64, 128, 1, False, 0.25]     \n",
      "  5                  -1  1    147712  ultralytics.nn.modules.conv.Conv             [128, 128, 3, 2]              \n",
      "  6                  -1  1     87040  ultralytics.nn.modules.block.C3k2            [128, 128, 1, True]           \n",
      "  7                  -1  1    295424  ultralytics.nn.modules.conv.Conv             [128, 256, 3, 2]              \n",
      "  8                  -1  1    346112  ultralytics.nn.modules.block.C3k2            [256, 256, 1, True]           \n",
      "  9                  -1  1    249728  ultralytics.nn.modules.block.C2PSA           [256, 256, 1]                 \n",
      " 10                  -1  1    332802  ultralytics.nn.modules.head.Classify         [256, 2]                      \n",
      "YOLO11n-cls summary: 151 layers, 1,533,666 parameters, 1,533,666 gradients, 3.3 GFLOPs\n",
      "\u001b[34m\u001b[1mTensorBoard: \u001b[0mStart with 'tensorboard --logdir runs/classify/train', view at http://localhost:6006/\n"
     ]
    },
    {
     "name": "stderr",
     "output_type": "stream",
     "text": [
      "\u001b[34m\u001b[1mtrain: \u001b[0mScanning /kaggle/working/data/train... 66000 images, 0 corrupt: 100%|██████████| 66000/66000 [00:50<00:00, 1311.52it/s]\n"
     ]
    },
    {
     "name": "stdout",
     "output_type": "stream",
     "text": [
      "\u001b[34m\u001b[1mtrain: \u001b[0mNew cache created: /kaggle/working/data/train.cache\n"
     ]
    },
    {
     "name": "stderr",
     "output_type": "stream",
     "text": [
      "\u001b[34m\u001b[1mval: \u001b[0mScanning /kaggle/working/data/val... 22000 images, 0 corrupt: 100%|██████████| 22000/22000 [00:16<00:00, 1301.28it/s]\n"
     ]
    },
    {
     "name": "stdout",
     "output_type": "stream",
     "text": [
      "\u001b[34m\u001b[1mval: \u001b[0mNew cache created: /kaggle/working/data/val.cache\n",
      "\u001b[34m\u001b[1moptimizer:\u001b[0m 'optimizer=auto' found, ignoring 'lr0=0.01' and 'momentum=0.937' and determining best 'optimizer', 'lr0' and 'momentum' automatically... \n",
      "\u001b[34m\u001b[1moptimizer:\u001b[0m AdamW(lr=0.000714, momentum=0.9) with parameter groups 39 weight(decay=0.0), 40 weight(decay=0.0005), 40 bias(decay=0.0)\n",
      "\u001b[34m\u001b[1mTensorBoard: \u001b[0mmodel graph visualization added ✅\n",
      "Image sizes 32 train, 32 val\n",
      "Using 0 dataloader workers\n",
      "Logging results to \u001b[1mruns/classify/train\u001b[0m\n",
      "Starting training for 5 epochs...\n",
      "\n",
      "      Epoch    GPU_mem       loss  Instances       Size\n"
     ]
    },
    {
     "name": "stderr",
     "output_type": "stream",
     "text": [
      "        1/5         0G      0.759         16         32:   0%|          | 4/4125 [00:00<11:15,  6.10it/s]"
     ]
    },
    {
     "name": "stdout",
     "output_type": "stream",
     "text": [
      "Downloading https://ultralytics.com/assets/Arial.ttf to '/root/.config/Ultralytics/Arial.ttf'...\n"
     ]
    },
    {
     "name": "stderr",
     "output_type": "stream",
     "text": [
      "        1/5         0G     0.7372         16         32:   0%|          | 7/4125 [00:01<09:40,  7.09it/s]\n",
      "100%|██████████| 755k/755k [00:00<00:00, 18.9MB/s]\n",
      "        1/5         0G     0.6674         16         32: 100%|██████████| 4125/4125 [07:46<00:00,  8.84it/s]\n",
      "               classes   top1_acc   top5_acc: 100%|██████████| 688/688 [00:26<00:00, 25.85it/s]\n"
     ]
    },
    {
     "name": "stdout",
     "output_type": "stream",
     "text": [
      "                   all      0.746          1\n",
      "\n",
      "      Epoch    GPU_mem       loss  Instances       Size\n"
     ]
    },
    {
     "name": "stderr",
     "output_type": "stream",
     "text": [
      "        2/5         0G     0.5902         16         32: 100%|██████████| 4125/4125 [06:59<00:00,  9.83it/s]\n",
      "               classes   top1_acc   top5_acc: 100%|██████████| 688/688 [00:26<00:00, 25.83it/s]"
     ]
    },
    {
     "name": "stdout",
     "output_type": "stream",
     "text": [
      "                   all      0.796          1\n"
     ]
    },
    {
     "name": "stderr",
     "output_type": "stream",
     "text": [
      "\n"
     ]
    },
    {
     "name": "stdout",
     "output_type": "stream",
     "text": [
      "\n",
      "      Epoch    GPU_mem       loss  Instances       Size\n"
     ]
    },
    {
     "name": "stderr",
     "output_type": "stream",
     "text": [
      "        3/5         0G     0.5404         16         32: 100%|██████████| 4125/4125 [06:57<00:00,  9.87it/s]\n",
      "               classes   top1_acc   top5_acc: 100%|██████████| 688/688 [00:27<00:00, 25.43it/s]"
     ]
    },
    {
     "name": "stdout",
     "output_type": "stream",
     "text": [
      "                   all      0.807          1\n"
     ]
    },
    {
     "name": "stderr",
     "output_type": "stream",
     "text": [
      "\n"
     ]
    },
    {
     "name": "stdout",
     "output_type": "stream",
     "text": [
      "\n",
      "      Epoch    GPU_mem       loss  Instances       Size\n"
     ]
    },
    {
     "name": "stderr",
     "output_type": "stream",
     "text": [
      "        4/5         0G     0.5066         16         32: 100%|██████████| 4125/4125 [06:24<00:00, 10.72it/s]\n",
      "               classes   top1_acc   top5_acc: 100%|██████████| 688/688 [00:27<00:00, 25.01it/s]"
     ]
    },
    {
     "name": "stdout",
     "output_type": "stream",
     "text": [
      "                   all      0.822          1\n"
     ]
    },
    {
     "name": "stderr",
     "output_type": "stream",
     "text": [
      "\n"
     ]
    },
    {
     "name": "stdout",
     "output_type": "stream",
     "text": [
      "\n",
      "      Epoch    GPU_mem       loss  Instances       Size\n"
     ]
    },
    {
     "name": "stderr",
     "output_type": "stream",
     "text": [
      "        5/5         0G     0.4852         16         32: 100%|██████████| 4125/4125 [06:38<00:00, 10.36it/s]\n",
      "               classes   top1_acc   top5_acc: 100%|██████████| 688/688 [00:26<00:00, 25.74it/s]"
     ]
    },
    {
     "name": "stdout",
     "output_type": "stream",
     "text": [
      "                   all      0.835          1\n"
     ]
    },
    {
     "name": "stderr",
     "output_type": "stream",
     "text": [
      "\n"
     ]
    },
    {
     "name": "stdout",
     "output_type": "stream",
     "text": [
      "\n",
      "5 epochs completed in 0.619 hours.\n",
      "Optimizer stripped from runs/classify/train/weights/last.pt, 3.2MB\n",
      "Optimizer stripped from runs/classify/train/weights/best.pt, 3.2MB\n",
      "\n",
      "Validating runs/classify/train/weights/best.pt...\n",
      "Ultralytics 8.3.50 🚀 Python-3.10.14 torch-2.4.0+cpu CPU (Intel Xeon 2.20GHz)\n",
      "YOLO11n-cls summary (fused): 112 layers, 1,528,586 parameters, 0 gradients, 3.2 GFLOPs\n",
      "\u001b[34m\u001b[1mtrain:\u001b[0m /kaggle/working/data/train... found 66000 images in 2 classes ✅ \n",
      "\u001b[34m\u001b[1mval:\u001b[0m /kaggle/working/data/val... found 22000 images in 2 classes ✅ \n",
      "\u001b[34m\u001b[1mtest:\u001b[0m /kaggle/working/data/test... found 44000 images in 2 classes ✅ \n"
     ]
    },
    {
     "name": "stderr",
     "output_type": "stream",
     "text": [
      "               classes   top1_acc   top5_acc: 100%|██████████| 688/688 [00:23<00:00, 28.68it/s]\n"
     ]
    },
    {
     "name": "stdout",
     "output_type": "stream",
     "text": [
      "                   all      0.835          1\n",
      "Speed: 0.0ms preprocess, 0.6ms inference, 0.0ms loss, 0.0ms postprocess per image\n",
      "Results saved to \u001b[1mruns/classify/train\u001b[0m\n"
     ]
    }
   ],
   "source": [
    "results = model.train(data='/kaggle/working/data', epochs=5, imgsz=32, verbose= True)"
   ]
  },
  {
   "cell_type": "code",
   "execution_count": 29,
   "id": "e652a094",
   "metadata": {
    "execution": {
     "iopub.execute_input": "2024-12-17T08:05:15.578094Z",
     "iopub.status.busy": "2024-12-17T08:05:15.577632Z",
     "iopub.status.idle": "2024-12-17T08:07:02.946417Z",
     "shell.execute_reply": "2024-12-17T08:07:02.945321Z"
    },
    "papermill": {
     "duration": 109.49296,
     "end_time": "2024-12-17T08:07:02.948729",
     "exception": false,
     "start_time": "2024-12-17T08:05:13.455769",
     "status": "completed"
    },
    "tags": []
   },
   "outputs": [
    {
     "name": "stdout",
     "output_type": "stream",
     "text": [
      "Ultralytics 8.3.50 🚀 Python-3.10.14 torch-2.4.0+cpu CPU (Intel Xeon 2.20GHz)\n",
      "YOLO11n-cls summary (fused): 112 layers, 1,528,586 parameters, 0 gradients, 3.2 GFLOPs\n",
      "\u001b[34m\u001b[1mtrain:\u001b[0m /kaggle/working/data/train... found 66000 images in 2 classes ✅ \n",
      "\u001b[34m\u001b[1mval:\u001b[0m /kaggle/working/data/val... found 22000 images in 2 classes ✅ \n",
      "\u001b[34m\u001b[1mtest:\u001b[0m /kaggle/working/data/test... found 44000 images in 2 classes ✅ \n"
     ]
    },
    {
     "name": "stderr",
     "output_type": "stream",
     "text": [
      "\u001b[34m\u001b[1mtest: \u001b[0mScanning /kaggle/working/data/test... 44000 images, 0 corrupt: 100%|██████████| 44000/44000 [00:33<00:00, 1312.23it/s]\n"
     ]
    },
    {
     "name": "stdout",
     "output_type": "stream",
     "text": [
      "\u001b[34m\u001b[1mtest: \u001b[0mNew cache created: /kaggle/working/data/test.cache\n"
     ]
    },
    {
     "name": "stderr",
     "output_type": "stream",
     "text": [
      "               classes   top1_acc   top5_acc: 100%|██████████| 2750/2750 [01:10<00:00, 39.23it/s]\n"
     ]
    },
    {
     "name": "stdout",
     "output_type": "stream",
     "text": [
      "                   all      0.736          1\n",
      "Speed: 0.0ms preprocess, 1.0ms inference, 0.0ms loss, 0.0ms postprocess per image\n",
      "Results saved to \u001b[1mruns/classify/train2\u001b[0m\n"
     ]
    }
   ],
   "source": [
    "test_results = model.val(data='/kaggle/working/data', imgsz=32, split=\"test\")"
   ]
  },
  {
   "cell_type": "code",
   "execution_count": 30,
   "id": "eaf298e1",
   "metadata": {
    "execution": {
     "iopub.execute_input": "2024-12-17T08:07:07.296370Z",
     "iopub.status.busy": "2024-12-17T08:07:07.295930Z",
     "iopub.status.idle": "2024-12-17T08:07:14.475823Z",
     "shell.execute_reply": "2024-12-17T08:07:14.474093Z"
    },
    "papermill": {
     "duration": 9.416627,
     "end_time": "2024-12-17T08:07:14.479703",
     "exception": false,
     "start_time": "2024-12-17T08:07:05.063076",
     "status": "completed"
    },
    "tags": []
   },
   "outputs": [],
   "source": [
    "# Save the trained model\n",
    "model.save('trained_yolo_model.pt')\n",
    "shutil.rmtree('/kaggle/working/data')\n",
    "shutil.rmtree('/kaggle/working/raw')"
   ]
  }
 ],
 "metadata": {
  "kaggle": {
   "accelerator": "none",
   "dataSources": [
    {
     "datasetId": 3041726,
     "sourceId": 5256696,
     "sourceType": "datasetVersion"
    }
   ],
   "dockerImageVersionId": 30804,
   "isGpuEnabled": false,
   "isInternetEnabled": true,
   "language": "python",
   "sourceType": "notebook"
  },
  "kernelspec": {
   "display_name": "Python 3",
   "language": "python",
   "name": "python3"
  },
  "language_info": {
   "codemirror_mode": {
    "name": "ipython",
    "version": 3
   },
   "file_extension": ".py",
   "mimetype": "text/x-python",
   "name": "python",
   "nbconvert_exporter": "python",
   "pygments_lexer": "ipython3",
   "version": "3.10.14"
  },
  "papermill": {
   "default_parameters": {},
   "duration": 3542.843246,
   "end_time": "2024-12-17T08:07:20.374672",
   "environment_variables": {},
   "exception": null,
   "input_path": "__notebook__.ipynb",
   "output_path": "__notebook__.ipynb",
   "parameters": {},
   "start_time": "2024-12-17T07:08:17.531426",
   "version": "2.6.0"
  }
 },
 "nbformat": 4,
 "nbformat_minor": 5
}
